{
  "nbformat": 4,
  "nbformat_minor": 0,
  "metadata": {
    "colab": {
      "provenance": []
    },
    "kernelspec": {
      "name": "python3",
      "display_name": "Python 3"
    },
    "language_info": {
      "name": "python"
    }
  },
  "cells": [
    {
      "cell_type": "markdown",
      "source": [
        "# **Arithmetic Operators**"
      ],
      "metadata": {
        "id": "E_aCO08K9cPW"
      }
    },
    {
      "cell_type": "code",
      "source": [
        "a=23\n",
        "b=77\n",
        "print(a+b)"
      ],
      "metadata": {
        "colab": {
          "base_uri": "https://localhost:8080/"
        },
        "id": "R3gHxi7Q90vo",
        "outputId": "4a7755b5-6fb6-4a55-a74d-3377da046c9e"
      },
      "execution_count": null,
      "outputs": [
        {
          "output_type": "stream",
          "name": "stdout",
          "text": [
            "100\n"
          ]
        }
      ]
    },
    {
      "cell_type": "code",
      "source": [
        "num1=7366\n",
        "num2=6466\n",
        "num3=6355\n",
        "print(\"Sum is =\", num1+num2+num3)"
      ],
      "metadata": {
        "colab": {
          "base_uri": "https://localhost:8080/"
        },
        "id": "BDxlJwCA-mWG",
        "outputId": "5b11751e-53a6-4c9f-c344-eceee69c68fa"
      },
      "execution_count": null,
      "outputs": [
        {
          "output_type": "stream",
          "name": "stdout",
          "text": [
            "Sum is = 20187\n"
          ]
        }
      ]
    },
    {
      "cell_type": "code",
      "source": [
        "a=736\n",
        "b=777\n",
        "c=976\n",
        "print(\"Sum is =\", a+b+c)"
      ],
      "metadata": {
        "id": "T1VipavG_prN",
        "colab": {
          "base_uri": "https://localhost:8080/"
        },
        "outputId": "22d63a92-2e41-41bd-c2c1-3cfb35e3a176"
      },
      "execution_count": null,
      "outputs": [
        {
          "output_type": "stream",
          "name": "stdout",
          "text": [
            "Sum is = 2489\n"
          ]
        }
      ]
    },
    {
      "cell_type": "code",
      "source": [
        "num1=7777777\n",
        "num2=6474747\n",
        "num3=3309233\n",
        "num4=4473874\n",
        "print(num1+num2+num3+num4)"
      ],
      "metadata": {
        "colab": {
          "base_uri": "https://localhost:8080/"
        },
        "id": "maFemnd4HI-H",
        "outputId": "0edf4495-86e2-442d-e91f-c9ce15b68971"
      },
      "execution_count": null,
      "outputs": [
        {
          "output_type": "stream",
          "name": "stdout",
          "text": [
            "22035631\n"
          ]
        }
      ]
    },
    {
      "cell_type": "code",
      "source": [
        "num1=637\n",
        "num2=733\n",
        "num3=7\n",
        "print(\"Sum is =\", num1+num2+num3)"
      ],
      "metadata": {
        "colab": {
          "base_uri": "https://localhost:8080/"
        },
        "id": "__ub1XaTH-qE",
        "outputId": "4f8001fe-cee6-46c3-b10a-d7b0398d5b29"
      },
      "execution_count": null,
      "outputs": [
        {
          "output_type": "stream",
          "name": "stdout",
          "text": [
            "Sum is = 1377\n"
          ]
        }
      ]
    },
    {
      "cell_type": "code",
      "source": [
        "a=76\n",
        "b=33\n",
        "c=12\n",
        "print(\"Subtraction is =\", a-b-c)"
      ],
      "metadata": {
        "colab": {
          "base_uri": "https://localhost:8080/"
        },
        "id": "PPWug2Z9Is_K",
        "outputId": "14edebac-845d-4729-daac-f2acf683fe9b"
      },
      "execution_count": null,
      "outputs": [
        {
          "output_type": "stream",
          "name": "stdout",
          "text": [
            "Subtraction is = 31\n"
          ]
        }
      ]
    },
    {
      "cell_type": "code",
      "source": [
        "num1=77366\n",
        "num2=90364\n",
        "num3=64764\n",
        "num4=23232\n",
        "num5=82879\n",
        "print(num1-num2-num3-num4-num5)"
      ],
      "metadata": {
        "colab": {
          "base_uri": "https://localhost:8080/"
        },
        "id": "7AAePuUNJ8Ik",
        "outputId": "d2ab80c5-3580-47db-82c2-4bca8bafb37f"
      },
      "execution_count": null,
      "outputs": [
        {
          "output_type": "stream",
          "name": "stdout",
          "text": [
            "-183873\n"
          ]
        }
      ]
    },
    {
      "cell_type": "code",
      "source": [
        "x=34\n",
        "y=46\n",
        "z=88\n",
        "print(x-y-z)"
      ],
      "metadata": {
        "colab": {
          "base_uri": "https://localhost:8080/"
        },
        "id": "GZdYUuAsKo7q",
        "outputId": "99919962-f79e-4cad-da52-511c37e000b3"
      },
      "execution_count": null,
      "outputs": [
        {
          "output_type": "stream",
          "name": "stdout",
          "text": [
            "-100\n"
          ]
        }
      ]
    },
    {
      "cell_type": "code",
      "source": [
        "w=888837878837\n",
        "g=873778837829\n",
        "l=728917739712\n",
        "print(\"Subtraction is =\", w-l-g)"
      ],
      "metadata": {
        "colab": {
          "base_uri": "https://localhost:8080/"
        },
        "id": "j3foODsMLESq",
        "outputId": "eea44484-b0fb-4732-e4ff-3016d1d681ab"
      },
      "execution_count": null,
      "outputs": [
        {
          "output_type": "stream",
          "name": "stdout",
          "text": [
            "Subtraction is = -713858698704\n"
          ]
        }
      ]
    },
    {
      "cell_type": "code",
      "source": [
        "a=8767\n",
        "b=86686\n",
        "c=86577\n",
        "d=75786\n",
        "e=77345\n",
        "f=20298\n",
        "g=10287\n",
        "h=87687\n",
        "i=63829\n",
        "j=97489\n",
        "k=7386289\n",
        "l=8476388\n",
        "m=226374\n",
        "n=748858\n",
        "print(a-c-d-b-g-f-e-i-h-g-k-j-l-m-n)"
      ],
      "metadata": {
        "colab": {
          "base_uri": "https://localhost:8080/"
        },
        "id": "yXri3be8MD6q",
        "outputId": "f0e1fe40-f2f4-445e-fe8d-a8a18885826b"
      },
      "execution_count": null,
      "outputs": [
        {
          "output_type": "stream",
          "name": "stdout",
          "text": [
            "-17445413\n"
          ]
        }
      ]
    },
    {
      "cell_type": "code",
      "source": [
        "a=66\n",
        "b=98\n",
        "print(a*b)"
      ],
      "metadata": {
        "colab": {
          "base_uri": "https://localhost:8080/"
        },
        "id": "XIIOgNPBPTZ8",
        "outputId": "a178cd70-1496-46e8-a7cb-52f0a8b6d844"
      },
      "execution_count": null,
      "outputs": [
        {
          "output_type": "stream",
          "name": "stdout",
          "text": [
            "6468\n"
          ]
        }
      ]
    },
    {
      "cell_type": "code",
      "source": [
        "num1=5466\n",
        "num2=767\n",
        "num3=748\n",
        "print(\"num4 is =\", num1*num2*num3)"
      ],
      "metadata": {
        "colab": {
          "base_uri": "https://localhost:8080/"
        },
        "id": "QrsGh0XsQ-M1",
        "outputId": "cdde2136-7fb4-4e12-aa89-07c6183f242c"
      },
      "execution_count": null,
      "outputs": [
        {
          "output_type": "stream",
          "name": "stdout",
          "text": [
            "num4 is = 3135931656\n"
          ]
        }
      ]
    },
    {
      "cell_type": "code",
      "source": [
        "a=76\n",
        "b=6657\n",
        "c=7757\n",
        "print(a*b*c)"
      ],
      "metadata": {
        "colab": {
          "base_uri": "https://localhost:8080/"
        },
        "id": "qMo0KHbsShKj",
        "outputId": "01026430-ea9e-425d-b18e-02924abf240e"
      },
      "execution_count": null,
      "outputs": [
        {
          "output_type": "stream",
          "name": "stdout",
          "text": [
            "3924514524\n"
          ]
        }
      ]
    },
    {
      "cell_type": "code",
      "source": [
        "num1=234\n",
        "num2=4\n",
        "print(num1*num2)"
      ],
      "metadata": {
        "colab": {
          "base_uri": "https://localhost:8080/"
        },
        "id": "6lJt2Hq9S4q-",
        "outputId": "6d88cc3b-24af-4471-dd57-896e7b4b35fd"
      },
      "execution_count": null,
      "outputs": [
        {
          "output_type": "stream",
          "name": "stdout",
          "text": [
            "936\n"
          ]
        }
      ]
    },
    {
      "cell_type": "code",
      "source": [
        "a=2\n",
        "b=4\n",
        "c=3\n",
        "d=34\n",
        "print(\"Multiplying is =\", a*b*c*d)"
      ],
      "metadata": {
        "colab": {
          "base_uri": "https://localhost:8080/"
        },
        "id": "LqDtSAE4TesV",
        "outputId": "bdc1a01d-3131-46e2-b52a-1b4c2ea310d0"
      },
      "execution_count": null,
      "outputs": [
        {
          "output_type": "stream",
          "name": "stdout",
          "text": [
            "Multiplying is = 816\n"
          ]
        }
      ]
    },
    {
      "cell_type": "code",
      "source": [
        "num1=6578\n",
        "num2=34\n",
        "print(num1/num2)"
      ],
      "metadata": {
        "colab": {
          "base_uri": "https://localhost:8080/"
        },
        "id": "mUrD2mCkUTn0",
        "outputId": "a5ae6bfc-359e-46e8-e0e6-48c7c6a382ea"
      },
      "execution_count": null,
      "outputs": [
        {
          "output_type": "stream",
          "name": "stdout",
          "text": [
            "193.47058823529412\n"
          ]
        }
      ]
    },
    {
      "cell_type": "code",
      "source": [
        "a=546664\n",
        "b=648\n",
        "c=74976\n",
        "print(\"Dividing is =\", a/b/c)"
      ],
      "metadata": {
        "colab": {
          "base_uri": "https://localhost:8080/"
        },
        "id": "RUgkhMX1Ub1h",
        "outputId": "63326f29-88dd-429b-8958-ff9f0b7e4cdf"
      },
      "execution_count": null,
      "outputs": [
        {
          "output_type": "stream",
          "name": "stdout",
          "text": [
            "Dividing is = 0.011251831038607251\n"
          ]
        }
      ]
    },
    {
      "cell_type": "code",
      "source": [
        "a=64\n",
        "b=848\n",
        "c=774\n",
        "print(a/c/b)"
      ],
      "metadata": {
        "id": "hBwf-ThmUpYZ",
        "colab": {
          "base_uri": "https://localhost:8080/"
        },
        "outputId": "41ebfed6-b8c8-4a80-f32d-6a5185d980cf"
      },
      "execution_count": 1,
      "outputs": [
        {
          "output_type": "stream",
          "name": "stdout",
          "text": [
            "9.750865389303301e-05\n"
          ]
        }
      ]
    },
    {
      "cell_type": "code",
      "source": [
        "a=6477477\n",
        "b=93766\n",
        "c=537589\n",
        "d=65837\n",
        "print(a/d/c/b)"
      ],
      "metadata": {
        "colab": {
          "base_uri": "https://localhost:8080/"
        },
        "id": "tLlbu_4u0tsw",
        "outputId": "7cf93563-7dfd-4377-f3ef-af9905f97b51"
      },
      "execution_count": 3,
      "outputs": [
        {
          "output_type": "stream",
          "name": "stdout",
          "text": [
            "1.951821434715575e-09\n"
          ]
        }
      ]
    },
    {
      "cell_type": "code",
      "source": [
        "s=699\n",
        "t=74\n",
        "print(s/t)"
      ],
      "metadata": {
        "colab": {
          "base_uri": "https://localhost:8080/"
        },
        "id": "1Rdun6351Fo2",
        "outputId": "2c992120-d43c-42a4-b797-4ddadf77d53c"
      },
      "execution_count": 4,
      "outputs": [
        {
          "output_type": "stream",
          "name": "stdout",
          "text": [
            "9.445945945945946\n"
          ]
        }
      ]
    },
    {
      "cell_type": "markdown",
      "source": [
        "# **Assignment Operators**"
      ],
      "metadata": {
        "id": "KG859ZzO1QD0"
      }
    },
    {
      "cell_type": "code",
      "source": [
        "x=5\n",
        "#x=x+5\n",
        "x+=5\n",
        "print(x)"
      ],
      "metadata": {
        "colab": {
          "base_uri": "https://localhost:8080/"
        },
        "id": "Mt7-n_i91kVI",
        "outputId": "a25c1953-b754-4fa5-871c-80e40c4a0d6d"
      },
      "execution_count": 7,
      "outputs": [
        {
          "output_type": "stream",
          "name": "stdout",
          "text": [
            "10\n"
          ]
        }
      ]
    },
    {
      "cell_type": "code",
      "source": [
        "x=35\n",
        "x+=77\n",
        "print(x)"
      ],
      "metadata": {
        "colab": {
          "base_uri": "https://localhost:8080/"
        },
        "id": "d4AhfnOb2Bkg",
        "outputId": "7db89283-c76d-4d3a-d6c7-14ffc8dd484e"
      },
      "execution_count": 8,
      "outputs": [
        {
          "output_type": "stream",
          "name": "stdout",
          "text": [
            "112\n"
          ]
        }
      ]
    },
    {
      "cell_type": "code",
      "source": [
        "x1=44\n",
        "x2=65\n",
        "x1-=64\n",
        "x2+=55\n",
        "print(x1)\n",
        "print(x2)"
      ],
      "metadata": {
        "colab": {
          "base_uri": "https://localhost:8080/"
        },
        "id": "qQXPfH362LNV",
        "outputId": "d2c05387-de58-4a54-d55f-d896de9c5f3c"
      },
      "execution_count": 10,
      "outputs": [
        {
          "output_type": "stream",
          "name": "stdout",
          "text": [
            "-20\n",
            "120\n"
          ]
        }
      ]
    },
    {
      "cell_type": "code",
      "source": [
        "d=657\n",
        "d-=77\n",
        "print(d)"
      ],
      "metadata": {
        "colab": {
          "base_uri": "https://localhost:8080/"
        },
        "id": "fWcDWbnY24bQ",
        "outputId": "5ec3c716-b686-4a48-fa1d-fe0253ea2489"
      },
      "execution_count": 11,
      "outputs": [
        {
          "output_type": "stream",
          "name": "stdout",
          "text": [
            "580\n"
          ]
        }
      ]
    },
    {
      "cell_type": "code",
      "source": [
        "x=6587\n",
        "x*=76\n",
        "print(x)"
      ],
      "metadata": {
        "colab": {
          "base_uri": "https://localhost:8080/"
        },
        "id": "CJX9HbN63CDO",
        "outputId": "57828e9f-7d7b-4293-83ba-bc321c744aac"
      },
      "execution_count": 13,
      "outputs": [
        {
          "output_type": "stream",
          "name": "stdout",
          "text": [
            "500612\n"
          ]
        }
      ]
    },
    {
      "cell_type": "code",
      "source": [
        "d=748888776\n",
        "d*=88\n",
        "print(d)"
      ],
      "metadata": {
        "colab": {
          "base_uri": "https://localhost:8080/"
        },
        "id": "74Qc33pY3Loz",
        "outputId": "3dd0143b-a684-4d8e-b014-a889c9cde4f3"
      },
      "execution_count": 15,
      "outputs": [
        {
          "output_type": "stream",
          "name": "stdout",
          "text": [
            "65902212288\n"
          ]
        }
      ]
    },
    {
      "cell_type": "code",
      "source": [
        "a=7587\n",
        "a*=66\n",
        "print(a)"
      ],
      "metadata": {
        "colab": {
          "base_uri": "https://localhost:8080/"
        },
        "id": "K43Hxwxw3xmp",
        "outputId": "e826bdcc-a90b-4e38-9e44-b927edec8b2a"
      },
      "execution_count": 16,
      "outputs": [
        {
          "output_type": "stream",
          "name": "stdout",
          "text": [
            "500742\n"
          ]
        }
      ]
    },
    {
      "cell_type": "code",
      "source": [
        "x=88\n",
        "x/=7\n",
        "print(x)"
      ],
      "metadata": {
        "colab": {
          "base_uri": "https://localhost:8080/"
        },
        "id": "TR2D4go84Lym",
        "outputId": "430fc453-308d-4c49-9d7a-d88bdef47a27"
      },
      "execution_count": 17,
      "outputs": [
        {
          "output_type": "stream",
          "name": "stdout",
          "text": [
            "12.571428571428571\n"
          ]
        }
      ]
    },
    {
      "cell_type": "code",
      "source": [
        "w=758847788393877648\n",
        "w/=6677\n",
        "print(w)"
      ],
      "metadata": {
        "colab": {
          "base_uri": "https://localhost:8080/"
        },
        "id": "elOXmuZ84SYM",
        "outputId": "decd9cfc-5c39-41b3-86dd-9b49f38fb964"
      },
      "execution_count": 18,
      "outputs": [
        {
          "output_type": "stream",
          "name": "stdout",
          "text": [
            "113651009194829.66\n"
          ]
        }
      ]
    },
    {
      "cell_type": "code",
      "source": [
        "a1=7588\n",
        "a2=55678\n",
        "a1/=66\n",
        "a2/=746\n",
        "print(a1)\n",
        "print(a2)"
      ],
      "metadata": {
        "colab": {
          "base_uri": "https://localhost:8080/"
        },
        "id": "dvCB4Vsh4p7_",
        "outputId": "112361d6-d5a5-4f11-99a6-c9c0c5f735ea"
      },
      "execution_count": 19,
      "outputs": [
        {
          "output_type": "stream",
          "name": "stdout",
          "text": [
            "114.96969696969697\n",
            "74.63538873994638\n"
          ]
        }
      ]
    },
    {
      "cell_type": "code",
      "source": [
        "x=756\n",
        "x**=7\n",
        "print(x)"
      ],
      "metadata": {
        "colab": {
          "base_uri": "https://localhost:8080/"
        },
        "id": "_Oyfhj6t6I_1",
        "outputId": "275cf840-5ef3-42cc-8c25-d35bbbe0adc6"
      },
      "execution_count": 21,
      "outputs": [
        {
          "output_type": "stream",
          "name": "stdout",
          "text": [
            "141140797978349223936\n"
          ]
        }
      ]
    },
    {
      "cell_type": "code",
      "source": [
        "x=2\n",
        "x**=16\n",
        "print(x)"
      ],
      "metadata": {
        "colab": {
          "base_uri": "https://localhost:8080/"
        },
        "id": "mS00cDF66XBo",
        "outputId": "48fb58b5-8d31-45e7-9ef7-2a54871189c6"
      },
      "execution_count": 22,
      "outputs": [
        {
          "output_type": "stream",
          "name": "stdout",
          "text": [
            "65536\n"
          ]
        }
      ]
    },
    {
      "cell_type": "code",
      "source": [
        "x=455\n",
        "x//=7\n",
        "print(x)"
      ],
      "metadata": {
        "colab": {
          "base_uri": "https://localhost:8080/"
        },
        "id": "GqbwzQy46lXz",
        "outputId": "d93e5827-4e3f-46f5-cf29-e2611e9a4ba5"
      },
      "execution_count": 23,
      "outputs": [
        {
          "output_type": "stream",
          "name": "stdout",
          "text": [
            "65\n"
          ]
        }
      ]
    },
    {
      "cell_type": "code",
      "source": [
        "x=16\n",
        "x//=2\n",
        "print(x)"
      ],
      "metadata": {
        "colab": {
          "base_uri": "https://localhost:8080/"
        },
        "id": "dZ3dN0yB6wkO",
        "outputId": "aed5d917-ecf9-4447-ef91-be8facdeb3d2"
      },
      "execution_count": 25,
      "outputs": [
        {
          "output_type": "stream",
          "name": "stdout",
          "text": [
            "8\n"
          ]
        }
      ]
    },
    {
      "cell_type": "code",
      "source": [
        "x=800\n",
        "x%=20\n",
        "print(x)"
      ],
      "metadata": {
        "colab": {
          "base_uri": "https://localhost:8080/"
        },
        "id": "lgIP9hog66gT",
        "outputId": "8605a063-a271-448c-c67b-1df80d914d41"
      },
      "execution_count": 26,
      "outputs": [
        {
          "output_type": "stream",
          "name": "stdout",
          "text": [
            "0\n"
          ]
        }
      ]
    },
    {
      "cell_type": "code",
      "source": [
        "a=100\n",
        "a%=20\n",
        "print(a)"
      ],
      "metadata": {
        "colab": {
          "base_uri": "https://localhost:8080/"
        },
        "id": "F_kTUnm67LvK",
        "outputId": "6b818ad5-6ea9-4bf8-ae34-5de6ca52a6c2"
      },
      "execution_count": 27,
      "outputs": [
        {
          "output_type": "stream",
          "name": "stdout",
          "text": [
            "0\n"
          ]
        }
      ]
    }
  ]
}
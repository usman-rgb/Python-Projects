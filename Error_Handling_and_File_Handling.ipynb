{
  "nbformat": 4,
  "nbformat_minor": 0,
  "metadata": {
    "colab": {
      "provenance": []
    },
    "kernelspec": {
      "name": "python3",
      "display_name": "Python 3"
    },
    "language_info": {
      "name": "python"
    }
  },
  "cells": [
    {
      "cell_type": "markdown",
      "source": [
        "# **Error Handling**"
      ],
      "metadata": {
        "id": "0PrHaOQWhBc0"
      }
    },
    {
      "cell_type": "code",
      "execution_count": null,
      "metadata": {
        "colab": {
          "base_uri": "https://localhost:8080/"
        },
        "id": "1nsNX_blg390",
        "outputId": "47484940-2170-4f58-8426-b49180cedb1f"
      },
      "outputs": [
        {
          "output_type": "stream",
          "name": "stdout",
          "text": [
            "0.0\n"
          ]
        }
      ],
      "source": [
        "a=20\n",
        "b=0\n",
        "c=b/a\n",
        "try:\n",
        "  print(c)\n",
        "except:\n",
        "  print(\"Error\")"
      ]
    },
    {
      "cell_type": "code",
      "source": [
        "x=float(input(\" Enter First Number \"))\n",
        "y=float(input(\" Enter Second Number \"))\n",
        "\n",
        "try:\n",
        "  z=x/y\n",
        "except:\n",
        "  print(\"Error 404\")"
      ],
      "metadata": {
        "colab": {
          "base_uri": "https://localhost:8080/"
        },
        "id": "NKpijpJwiBY8",
        "outputId": "b5a48ee2-6d0f-47d0-d5c7-efb2cb4d1d33"
      },
      "execution_count": null,
      "outputs": [
        {
          "output_type": "stream",
          "name": "stdout",
          "text": [
            " Enter First Number 20\n",
            " Enter Second Number 0\n",
            "Error 404\n"
          ]
        }
      ]
    },
    {
      "cell_type": "code",
      "source": [
        "import logging\n",
        "\n",
        "logging.basicConfig(level= logging.ERROR)\n",
        "\n",
        "try:\n",
        "  value= int(\"text\")\n",
        "\n",
        "except ValueError as e:\n",
        "  logging.error(f\"Logging Error: {e}\")"
      ],
      "metadata": {
        "colab": {
          "base_uri": "https://localhost:8080/"
        },
        "id": "7ge60DS0jzQh",
        "outputId": "6989deb3-549e-46d2-f96a-da0ecb33ba08"
      },
      "execution_count": null,
      "outputs": [
        {
          "output_type": "stream",
          "name": "stderr",
          "text": [
            "ERROR:root:Logging Error: invalid literal for int() with base 10: 'text'\n"
          ]
        }
      ]
    },
    {
      "cell_type": "code",
      "source": [
        "fruits= {\"Apple\": 40, \"Banana\": 50, \"Mango\": 100}\n",
        "\n",
        "try:\n",
        "  print(f\" The Price of Orange is {fruits['Orange']} \")\n",
        "\n",
        "except:\n",
        "  print(\"The Orange is Not Found in Fruits \")"
      ],
      "metadata": {
        "colab": {
          "base_uri": "https://localhost:8080/"
        },
        "id": "OfqVNe7olERh",
        "outputId": "763a564e-d348-410f-898c-3fc432c48f26"
      },
      "execution_count": null,
      "outputs": [
        {
          "output_type": "stream",
          "name": "stdout",
          "text": [
            "The Orange is Not Found in Fruits \n"
          ]
        }
      ]
    },
    {
      "cell_type": "code",
      "source": [
        "fruits= [{\"Name\": \"Apple\", \"Weight\": 200}, {\"Name\": \"Cherry\", \"Weight\": \"Three Hundred\"}]\n",
        "\n",
        "total_weight= 0\n",
        "\n",
        "for fruit in fruits:\n",
        "  try:\n",
        "    weight=float(fruit[\"Weight\"])\n",
        "    total_weight += weight\n",
        "  except ValueError:\n",
        "    print(f\"Invalid Weight for {fruit['Name']}: {fruit['Weight']}\")\n",
        "\n",
        "\n",
        "print(f\"Tptal Weight: {total_weight}\")"
      ],
      "metadata": {
        "colab": {
          "base_uri": "https://localhost:8080/"
        },
        "id": "Pcm7em-RmTF-",
        "outputId": "fa34ebfb-1b93-4084-d9c1-8018f67bc0c0"
      },
      "execution_count": null,
      "outputs": [
        {
          "output_type": "stream",
          "name": "stdout",
          "text": [
            "Invalid Weight for Cherry: Three Hundred\n",
            "Tptal Weight: 200.0\n"
          ]
        }
      ]
    },
    {
      "cell_type": "markdown",
      "source": [
        "# **File Handling**"
      ],
      "metadata": {
        "id": "a81u2CzyqZJ0"
      }
    },
    {
      "cell_type": "markdown",
      "source": [
        "# Read File"
      ],
      "metadata": {
        "id": "px3mk0pVy1bS"
      }
    },
    {
      "cell_type": "code",
      "source": [
        "my_file=\"/python\"\n",
        "\n",
        "with open(my_file, \"r\", encoding= \"latin-1\" ) as file:\n",
        "  content=file.read()\n",
        "\n",
        "print(content)"
      ],
      "metadata": {
        "colab": {
          "base_uri": "https://localhost:8080/"
        },
        "id": "fTynTbh3y59W",
        "outputId": "74ecec96-a4fd-40fa-ec94-904c87ada4aa"
      },
      "execution_count": 1,
      "outputs": [
        {
          "output_type": "stream",
          "name": "stdout",
          "text": [
            "Hii! My Name is Usman\n",
            "i Got Position in AI Cademy\n"
          ]
        }
      ]
    },
    {
      "cell_type": "code",
      "source": [
        "f1= \"/python\"\n",
        "\n",
        "with open(f1, \"r\") as file:\n",
        "  lines= file.read()\n",
        "\n",
        "print(lines)"
      ],
      "metadata": {
        "colab": {
          "base_uri": "https://localhost:8080/"
        },
        "id": "cGoroq5d2qdO",
        "outputId": "b4f4d5f2-d3fb-4ef7-9a45-2a69689fc7d3"
      },
      "execution_count": 2,
      "outputs": [
        {
          "output_type": "stream",
          "name": "stdout",
          "text": [
            "Hii! My Name is Usman\n",
            "i Got Position in AI Cademy\n",
            "I am From Dera Ghazi Khan\n"
          ]
        }
      ]
    },
    {
      "cell_type": "code",
      "source": [
        "usman= \"/usr/usman\"\n",
        "with open(usman, \"r\") as file:\n",
        "  reads= file.read()\n",
        "\n",
        "print(reads)"
      ],
      "metadata": {
        "colab": {
          "base_uri": "https://localhost:8080/"
        },
        "id": "28w0hNbm36m_",
        "outputId": "90d60b38-2e81-4cfe-9651-d0f9aa3d3417"
      },
      "execution_count": 6,
      "outputs": [
        {
          "output_type": "stream",
          "name": "stdout",
          "text": [
            "Google is a multinational technology company founded in 1998 by Larry Page and Sergey Brin while they were Ph.D. students at Stanford University. \n",
            "Initially developed as a search engine, \n",
            "Google has grown to become one of the largest tech companies in the world, offering a wide range of products and services.\n"
          ]
        }
      ]
    },
    {
      "cell_type": "code",
      "source": [
        "file_name= \"/usr/usman\"\n",
        "with open(file_name, \"r\") as file:\n",
        "  content= file.read()\n",
        "\n",
        "print(content)"
      ],
      "metadata": {
        "colab": {
          "base_uri": "https://localhost:8080/"
        },
        "id": "LXW4zSUT5Pfc",
        "outputId": "0768e7b9-0b89-4894-8279-b9b7907d237e"
      },
      "execution_count": 7,
      "outputs": [
        {
          "output_type": "stream",
          "name": "stdout",
          "text": [
            "Google is a multinational technology company founded in 1998 by Larry Page and Sergey Brin while they were Ph.D. students at Stanford University. \n",
            "Initially developed as a search engine, \n",
            "Google has grown to become one of the largest tech companies in the world, offering a wide range of products and services.\n",
            "Google is a global tech company founded in 1998 by Larry Page and Sergey Brin.\n",
            "It started as a search engine and is now the most popular worldwide.\n",
            "Google offers products like Gmail, YouTube, Android, and Google Maps.\n",
            "Its parent company, Alphabet Inc., was formed in 2015.\n",
            "Google focuses on AI, cloud computing, and future technologies.\n"
          ]
        }
      ]
    },
    {
      "cell_type": "markdown",
      "source": [
        "# Write File"
      ],
      "metadata": {
        "id": "QrMFUq9J5mPH"
      }
    },
    {
      "cell_type": "code",
      "source": [
        "file_name= \"/usr/usman\"\n",
        "with open(file_name, \"w\") as file:\n",
        "  file.write(\"Sir Kumail Is Very Talented Boy and Very Kind\")"
      ],
      "metadata": {
        "id": "yrchz-E55q-F"
      },
      "execution_count": 8,
      "outputs": []
    },
    {
      "cell_type": "code",
      "source": [
        "my_file= \"/usr/usman\"\n",
        "with open(my_file, \"w\") as file:\n",
        "  file.write(\"AI Cademy is Very Amazing Institute and All the Instructor and Supervisor are Very Talented\")"
      ],
      "metadata": {
        "id": "_JPYFY496Yhv"
      },
      "execution_count": 9,
      "outputs": []
    },
    {
      "cell_type": "code",
      "source": [
        "f1= \"/usr/usman\"\n",
        "with open(f1, \"w\") as file:\n",
        "  file.write(\"Our Holy Prophet is Hazrat Muhammad S A W \")"
      ],
      "metadata": {
        "id": "ebWvdur866AP"
      },
      "execution_count": 10,
      "outputs": []
    },
    {
      "cell_type": "markdown",
      "source": [
        "# Append File"
      ],
      "metadata": {
        "id": "QUmT-Pe67n7Y"
      }
    },
    {
      "cell_type": "code",
      "source": [
        "name= \"//var/Usman1\"\n",
        "\n",
        "with open(name, \"a\") as file:\n",
        "  file.write(\"Grammar is the structure of a language. Nouns name people, places, or things. \")\n",
        "\n",
        "print(f\" Data Successfully Appended in {name} \")"
      ],
      "metadata": {
        "colab": {
          "base_uri": "https://localhost:8080/"
        },
        "id": "aY5AJiY97sOJ",
        "outputId": "c2aa7bfb-408d-44d2-ab21-d6900aa778ed"
      },
      "execution_count": 15,
      "outputs": [
        {
          "output_type": "stream",
          "name": "stdout",
          "text": [
            " Data Successfully Appended in //var/Usman1 \n"
          ]
        }
      ]
    },
    {
      "cell_type": "code",
      "source": [
        "with open(\"/var/Usman1\", \"a\") as file:\n",
        "  file.write(\"Sir Kumail Is Very Talented Boy and Very Kind\")\n",
        "\n",
        "print(\"Data Successfully Appended \")"
      ],
      "metadata": {
        "colab": {
          "base_uri": "https://localhost:8080/"
        },
        "id": "p8gk_R2RDm81",
        "outputId": "d8aaed24-e595-466e-f6eb-c6c8735f77be"
      },
      "execution_count": 17,
      "outputs": [
        {
          "output_type": "stream",
          "name": "stdout",
          "text": [
            "Data Successfully Appended \n"
          ]
        }
      ]
    },
    {
      "cell_type": "code",
      "source": [
        "khan= \"/python\"\n",
        "with open(khan, \"a\") as file:\n",
        "  file.write(\"Allah is One \")\n",
        "\n",
        "print(f\" Data Successfully Appended to {khan} \")"
      ],
      "metadata": {
        "colab": {
          "base_uri": "https://localhost:8080/"
        },
        "id": "9poWwhq4EBdi",
        "outputId": "fde842b6-cbf5-48b6-a9b6-23f22509bd31"
      },
      "execution_count": 18,
      "outputs": [
        {
          "output_type": "stream",
          "name": "stdout",
          "text": [
            " Data Successfully Appended to /python \n"
          ]
        }
      ]
    }
  ]
}
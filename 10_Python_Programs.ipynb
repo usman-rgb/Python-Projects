{
  "nbformat": 4,
  "nbformat_minor": 0,
  "metadata": {
    "colab": {
      "provenance": []
    },
    "kernelspec": {
      "name": "python3",
      "display_name": "Python 3"
    },
    "language_info": {
      "name": "python"
    }
  },
  "cells": [
    {
      "cell_type": "markdown",
      "source": [
        "# **10 Python Programs**"
      ],
      "metadata": {
        "id": "ltaRGKBENEsQ"
      }
    },
    {
      "cell_type": "code",
      "source": [
        "num1=int(input(\"Enter first number\"))\n",
        "num2=int(input(\"Enter second number\"))\n",
        "num3=int(input(\"Enter third number\"))\n",
        "sum=num1+num2+num3\n",
        "print(f\"Sum of value is : {num1} and {num2} and {num3} is = {sum}\")"
      ],
      "metadata": {
        "id": "QkCiJomANRDI",
        "colab": {
          "base_uri": "https://localhost:8080/"
        },
        "outputId": "a02dc877-fc64-48ba-bc23-3a2f879e8d7d"
      },
      "execution_count": null,
      "outputs": [
        {
          "output_type": "stream",
          "name": "stdout",
          "text": [
            "Enter first number77\n",
            "Enter second number67\n",
            "Enter third number24\n",
            "Sum of value is : 77 and 67 and 24 is = 168\n"
          ]
        }
      ]
    },
    {
      "cell_type": "code",
      "source": [
        "Base=float(input(\"Enter Base of Triangle\"))\n",
        "Height=float(input(\"Enter Height of Triangle\"))\n",
        "area=0.5 * Base * Height\n",
        "print(area)"
      ],
      "metadata": {
        "colab": {
          "base_uri": "https://localhost:8080/"
        },
        "id": "DtAn72V6OE7U",
        "outputId": "89926dab-141b-4e74-fe41-36a740c12919"
      },
      "execution_count": null,
      "outputs": [
        {
          "output_type": "stream",
          "name": "stdout",
          "text": [
            "Enter Base of Triangle87\n",
            "Enter Height of Triangle55\n",
            "2392.5\n"
          ]
        }
      ]
    },
    {
      "cell_type": "code",
      "source": [
        "Base=float(input(\"Enter Base of Triangle\"))\n",
        "Height=float(input(\"Enter Height of Triangle\"))\n",
        "area=0.5 * Base * Height\n",
        "print(f\"Area of Triangle : {Base} and Height{Height} is = {area}\")"
      ],
      "metadata": {
        "colab": {
          "base_uri": "https://localhost:8080/"
        },
        "id": "JiDlC672VVJm",
        "outputId": "9149163b-7a1e-489a-d005-00e4a66a172b"
      },
      "execution_count": null,
      "outputs": [
        {
          "output_type": "stream",
          "name": "stdout",
          "text": [
            "Enter Base of Triangle66\n",
            "Enter Height of Triangle87\n",
            "Area of Triangle : 66.0 and Height87.0 is = 2871.0\n"
          ]
        }
      ]
    },
    {
      "cell_type": "code",
      "source": [
        "a=input(\"Enter First Number\")\n",
        "b=input(\"Enter Second Number\")\n",
        "Division=int(a)//int(b)\n",
        "print(f\"Division of Value is : {a} and {b} is = {Division}\")"
      ],
      "metadata": {
        "colab": {
          "base_uri": "https://localhost:8080/"
        },
        "id": "mZowbu3xYyZy",
        "outputId": "9064347e-76bf-4f6e-9860-13a0cbc6e49d"
      },
      "execution_count": null,
      "outputs": [
        {
          "output_type": "stream",
          "name": "stdout",
          "text": [
            "Enter First Number300\n",
            "Enter Second Number30\n",
            "Division of Value is : 300 and 30 is = 10\n"
          ]
        }
      ]
    },
    {
      "cell_type": "code",
      "source": [
        "a=input(\"Enter First Value\")\n",
        "b=input(\"Enter Second Value\")\n",
        "print(f\"Before Swapping : a={b} and b={a}\")\n",
        "swap=a\n",
        "b=a\n",
        "a=swap\n",
        "print(f'After Swapping : a={a} and b={b}')"
      ],
      "metadata": {
        "colab": {
          "base_uri": "https://localhost:8080/"
        },
        "id": "geokoWP_bFV_",
        "outputId": "899bcaf1-8064-4ebf-8a53-a5b8d4bb1e2e"
      },
      "execution_count": null,
      "outputs": [
        {
          "output_type": "stream",
          "name": "stdout",
          "text": [
            "Enter First Value88\n",
            "Enter Second Value34\n",
            "Before Swapping : a=34 and b=88\n",
            "After Swapping : a=88 and b=88\n"
          ]
        }
      ]
    },
    {
      "cell_type": "code",
      "source": [
        "num1=input(\"Enter first value\")\n",
        "num2=input(\"Enter second value\")\n",
        "num3=input(\"Enter third value\")\n",
        "print(f\"Before Swapping : num1={num1} and num3={num3} and num2={num2}\")\n",
        "swap=num1\n",
        "num3=num2\n",
        "num2=num3\n",
        "print(f\"After Swapping : num1={num2} and num3={num2} and num2={num3}\")"
      ],
      "metadata": {
        "colab": {
          "base_uri": "https://localhost:8080/"
        },
        "id": "lf_ac2y5fm5n",
        "outputId": "6bc03a26-9e9d-41a7-c5bb-2e87937499c4"
      },
      "execution_count": null,
      "outputs": [
        {
          "output_type": "stream",
          "name": "stdout",
          "text": [
            "Enter first value11\n",
            "Enter second value22\n",
            "Enter third value33\n",
            "Before Swapping : num1=11 and num3=33 and num2=22\n",
            "After Swapping : num1=22 and num3=22 and num2=22\n"
          ]
        }
      ]
    },
    {
      "cell_type": "code",
      "source": [
        "import random\n",
        "print(f\"Random Number: {random.randint(300, 1000)}\")"
      ],
      "metadata": {
        "colab": {
          "base_uri": "https://localhost:8080/"
        },
        "id": "R79P6_n4OFOl",
        "outputId": "240d168e-5252-4682-c1a6-9931f59a3977"
      },
      "execution_count": 9,
      "outputs": [
        {
          "output_type": "stream",
          "name": "stdout",
          "text": [
            "Random Number: 796\n"
          ]
        }
      ]
    },
    {
      "cell_type": "code",
      "source": [
        "celsius=float(input(\"Enter Temprature of celsius\"))\n",
        "fahrenheit=(celsius * 5/9)+32\n",
        "print(f\"{celsius} degrees Celsius is = {fahrenheit} degree Fahrenhiet\")"
      ],
      "metadata": {
        "colab": {
          "base_uri": "https://localhost:8080/"
        },
        "id": "IcQw0VGqQs6J",
        "outputId": "07d6946f-dbdb-48a9-af50-a4aa8b325922"
      },
      "execution_count": 11,
      "outputs": [
        {
          "output_type": "stream",
          "name": "stdout",
          "text": [
            "Enter Temprature of celsius40\n",
            "40.0 degrees Celsius is = 54.22222222222222 degree Fahrenhiet\n"
          ]
        }
      ]
    },
    {
      "cell_type": "code",
      "source": [
        "fahrenheit=float(input(\"Enter Temprature of Fahrenheit\"))\n",
        "celsius=(fahrenheit-32) * 5/9\n",
        "print(f\"{fahrenheit} degree Fahrenheit is = {celsius} degree of Celsius\")"
      ],
      "metadata": {
        "colab": {
          "base_uri": "https://localhost:8080/"
        },
        "id": "Ssq6t9xPSwvk",
        "outputId": "60a51710-083a-418f-ab9c-d5bde69be291"
      },
      "execution_count": 12,
      "outputs": [
        {
          "output_type": "stream",
          "name": "stdout",
          "text": [
            "Enter Temprature of Fahrenheit40\n",
            "40.0 degree Fahrenheit is = 4.444444444444445 degree of Celsius\n"
          ]
        }
      ]
    },
    {
      "cell_type": "code",
      "source": [
        "import calendar\n",
        "year=int(input(\"Enter Year\"))\n",
        "month=int(input(\"Enter Month\"))\n",
        "Calendar=calendar.month(year,month)\n",
        "print(f\"Calendar of {year} and {month} is = {Calendar}\")"
      ],
      "metadata": {
        "colab": {
          "base_uri": "https://localhost:8080/"
        },
        "id": "wmbuhFl8Tqsz",
        "outputId": "be726eda-92c9-4474-faf0-1e4a83553c9f"
      },
      "execution_count": 13,
      "outputs": [
        {
          "output_type": "stream",
          "name": "stdout",
          "text": [
            "Enter Year2024\n",
            "Enter Month11\n",
            "Calendar of 2024 and 11 is =    November 2024\n",
            "Mo Tu We Th Fr Sa Su\n",
            "             1  2  3\n",
            " 4  5  6  7  8  9 10\n",
            "11 12 13 14 15 16 17\n",
            "18 19 20 21 22 23 24\n",
            "25 26 27 28 29 30\n",
            "\n"
          ]
        }
      ]
    }
  ]
}
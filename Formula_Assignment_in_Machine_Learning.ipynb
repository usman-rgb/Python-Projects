{
  "nbformat": 4,
  "nbformat_minor": 0,
  "metadata": {
    "colab": {
      "provenance": []
    },
    "kernelspec": {
      "name": "python3",
      "display_name": "Python 3"
    },
    "language_info": {
      "name": "python"
    }
  },
  "cells": [
    {
      "cell_type": "code",
      "execution_count": null,
      "metadata": {
        "colab": {
          "base_uri": "https://localhost:8080/"
        },
        "id": "vhLa6fujfVJr",
        "outputId": "0e6abad0-4b03-4be5-b6f4-92c5045aebff"
      },
      "outputs": [
        {
          "output_type": "stream",
          "name": "stdout",
          "text": [
            "4.34620110786429e+22\n"
          ]
        }
      ],
      "source": [
        "# Formula is F = s(m**2 + n**2) + (m**2 - n**2) * DeltaV(DeltaT + DeltaL) / n(x**2(v**2-t**2))\n",
        "\n",
        "import math\n",
        "\n",
        "m = 5\n",
        "n = 6\n",
        "d = m**2 + n**2\n",
        "\n",
        "p = 45\n",
        "r = 22\n",
        "c = 90\n",
        "j = c**3 - r**2/p\n",
        "\n",
        "Vf = 87\n",
        "Vi = 34\n",
        "DeltaV = Vf - Vi\n",
        "\n",
        "Tf = 9887\n",
        "Ti = 6766\n",
        "DeltaT = Tf - Ti\n",
        "\n",
        "Lf = 766\n",
        "Li = 988\n",
        "DeltaL = Lf - Li\n",
        "\n",
        "v = 887\n",
        "m = 665\n",
        "n = 565\n",
        "z = n*(m + v)\n",
        "\n",
        "Jf = 766\n",
        "Ji = 566\n",
        "DeltaJ = Jf - Ji\n",
        "f = 877\n",
        "g = f*DeltaJ\n",
        "\n",
        "Uf = 655\n",
        "Ui = 589\n",
        "q = 76\n",
        "w = q*(Uf - Ui)\n",
        "\n",
        "r = 655\n",
        "y = 999\n",
        "o = r**2 * y**2\n",
        "\n",
        "a1 = 355\n",
        "a2 = 566\n",
        "a3 = a2 -a1\n",
        "\n",
        "h = 66\n",
        "i = 677\n",
        "s = h*i\n",
        "\n",
        "F = s*(d + j)*(DeltaV + DeltaT - DeltaL)/z*(g - w)*(o * a3/s)\n",
        "print(F)"
      ]
    },
    {
      "cell_type": "code",
      "source": [
        "import math\n",
        "from sklearn.linear_model import LinearRegression\n",
        "import numpy as np\n",
        "\n",
        "# Initial calculations for F\n",
        "m = 5\n",
        "n = 6\n",
        "d = m**2 + n**2\n",
        "\n",
        "p = 45\n",
        "r = 22\n",
        "c = 90\n",
        "j = c**3 - r**2 / p\n",
        "\n",
        "Vf = 87\n",
        "Vi = 34\n",
        "DeltaV = Vf - Vi\n",
        "\n",
        "Tf = 9887\n",
        "Ti = 6766\n",
        "DeltaT = Tf - Ti\n",
        "\n",
        "Lf = 766\n",
        "Li = 988\n",
        "DeltaL = Lf - Li\n",
        "\n",
        "v = 887\n",
        "m = 665\n",
        "n = 565\n",
        "z = n * (m + v)\n",
        "\n",
        "Jf = 766\n",
        "Ji = 566\n",
        "DeltaJ = Jf - Ji\n",
        "f = 877\n",
        "g = f * DeltaJ\n",
        "\n",
        "Uf = 655\n",
        "Ui = 589\n",
        "q = 76\n",
        "w = q * (Uf - Ui)\n",
        "\n",
        "r = 655\n",
        "y = 999\n",
        "o = r**2 * y**2\n",
        "\n",
        "a1 = 355\n",
        "a2 = 566\n",
        "a3 = a2 - a1\n",
        "\n",
        "h = 66\n",
        "i = 677\n",
        "s = h * i\n",
        "\n",
        "F = s * (d + j) * (DeltaV + DeltaT - DeltaL) / z * (g - w) * (o * a3 / s)\n",
        "\n",
        "# Prepare data for linear regression\n",
        "# Define a dataset with features (X) and target (y)\n",
        "# Example features and target values (you can customize this based on your context)\n",
        "X = np.array([\n",
        "    [m, n, DeltaV, DeltaT, DeltaL, g, w, o, a3]\n",
        "])\n",
        "y = np.array([F])  # Using F as the target variable\n",
        "\n",
        "# Fit a linear regression model\n",
        "model = LinearRegression()\n",
        "model.fit(X, y)\n",
        "\n",
        "# Predict using the trained model\n",
        "prediction = model.predict(X)\n",
        "\n",
        "# Output results\n",
        "print(\"Calculated F:\", F)\n",
        "print(\"Predicted F using linear regression:\", prediction[0])\n"
      ],
      "metadata": {
        "colab": {
          "base_uri": "https://localhost:8080/"
        },
        "id": "8jlpZO5FCKWi",
        "outputId": "02ddf1c2-6067-4ec3-f9f6-808037c2ca5b"
      },
      "execution_count": 1,
      "outputs": [
        {
          "output_type": "stream",
          "name": "stdout",
          "text": [
            "Calculated F: 4.34620110786429e+22\n",
            "Predicted F using linear regression: 4.34620110786429e+22\n"
          ]
        }
      ]
    }
  ]
}
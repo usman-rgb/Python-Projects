{
  "nbformat": 4,
  "nbformat_minor": 0,
  "metadata": {
    "colab": {
      "provenance": []
    },
    "kernelspec": {
      "name": "python3",
      "display_name": "Python 3"
    },
    "language_info": {
      "name": "python"
    }
  },
  "cells": [
    {
      "cell_type": "markdown",
      "source": [
        "# **Comparison Operators**"
      ],
      "metadata": {
        "id": "y1DT1uQT_1dl"
      }
    },
    {
      "cell_type": "code",
      "source": [
        "x=44\n",
        "y=77\n",
        "print(x==y)"
      ],
      "metadata": {
        "colab": {
          "base_uri": "https://localhost:8080/"
        },
        "id": "AVorpg2t_9an",
        "outputId": "92e35ace-76ba-48f9-b377-789a67221f6b"
      },
      "execution_count": null,
      "outputs": [
        {
          "output_type": "stream",
          "name": "stdout",
          "text": [
            "False\n"
          ]
        }
      ]
    },
    {
      "cell_type": "code",
      "source": [
        "st1=\"Usman is very Innocent\"\n",
        "st2=\"usman Is very Innocent\"\n",
        "print(st1==st2)"
      ],
      "metadata": {
        "colab": {
          "base_uri": "https://localhost:8080/"
        },
        "id": "otd0LOSoEWaZ",
        "outputId": "7f0f3406-1ae5-46e9-8af4-aca74cf254b0"
      },
      "execution_count": null,
      "outputs": [
        {
          "output_type": "stream",
          "name": "stdout",
          "text": [
            "False\n"
          ]
        }
      ]
    },
    {
      "cell_type": "code",
      "source": [
        "num1=float(input(\"Enter first number\"))\n",
        "num2=float(input(\"Enter second number\"))\n",
        "print(num1==num2)"
      ],
      "metadata": {
        "colab": {
          "base_uri": "https://localhost:8080/"
        },
        "id": "nkunloiAE_yL",
        "outputId": "1116d8e7-fad0-444f-e54c-0ccb8de0e7ce"
      },
      "execution_count": null,
      "outputs": [
        {
          "output_type": "stream",
          "name": "stdout",
          "text": [
            "Enter first number3.4\n",
            "Enter second number3.4\n",
            "True\n"
          ]
        }
      ]
    },
    {
      "cell_type": "code",
      "source": [
        "a=\"Usman is very kind\"\n",
        "b=\"Usman is very kind\"\n",
        "c=\"Usman is very kind\"\n",
        "print(a==b==c)"
      ],
      "metadata": {
        "colab": {
          "base_uri": "https://localhost:8080/"
        },
        "id": "Dcrmaa4OFZj7",
        "outputId": "001e712c-1268-4fa8-b073-ac656b822c63"
      },
      "execution_count": null,
      "outputs": [
        {
          "output_type": "stream",
          "name": "stdout",
          "text": [
            "True\n"
          ]
        }
      ]
    },
    {
      "cell_type": "code",
      "source": [
        "a=\"Usman is very kind\"\n",
        "b=\"Usman is very kind\"\n",
        "c=\"Usman Is very kind\"\n",
        "print(a==b==c)"
      ],
      "metadata": {
        "colab": {
          "base_uri": "https://localhost:8080/"
        },
        "id": "MZlBGAesFz0R",
        "outputId": "abcb2361-fd6c-4acf-b636-4c398303556f"
      },
      "execution_count": null,
      "outputs": [
        {
          "output_type": "stream",
          "name": "stdout",
          "text": [
            "False\n"
          ]
        }
      ]
    },
    {
      "cell_type": "code",
      "source": [
        "a=34\n",
        "b=22\n",
        "print(a!=b)"
      ],
      "metadata": {
        "colab": {
          "base_uri": "https://localhost:8080/"
        },
        "id": "JIdxKO71GkuE",
        "outputId": "43d094bc-cd8c-4ef7-bb03-28009064e684"
      },
      "execution_count": null,
      "outputs": [
        {
          "output_type": "stream",
          "name": "stdout",
          "text": [
            "True\n"
          ]
        }
      ]
    },
    {
      "cell_type": "code",
      "source": [
        "num1=int(input(\"Enter first number\"))\n",
        "num2=int(input(\"Enter second number\"))\n",
        "print(num1!=num2)"
      ],
      "metadata": {
        "colab": {
          "base_uri": "https://localhost:8080/"
        },
        "id": "SiXbLPzPGt6C",
        "outputId": "f9219ebf-501b-43d9-abe4-44c6b347a88b"
      },
      "execution_count": null,
      "outputs": [
        {
          "output_type": "stream",
          "name": "stdout",
          "text": [
            "Enter first number44\n",
            "Enter second number44\n",
            "False\n"
          ]
        }
      ]
    },
    {
      "cell_type": "code",
      "source": [
        "st1=float(input(\"enter first number\"))\n",
        "st2=int(input(\"Enter second number\"))\n",
        "print(st1!=st2)"
      ],
      "metadata": {
        "colab": {
          "base_uri": "https://localhost:8080/"
        },
        "id": "QeCoHlhFHaDu",
        "outputId": "dc31910e-b48f-4ae0-954f-8b2bedcd6578"
      },
      "execution_count": null,
      "outputs": [
        {
          "output_type": "stream",
          "name": "stdout",
          "text": [
            "enter first number33\n",
            "Enter second number33\n",
            "False\n"
          ]
        }
      ]
    },
    {
      "cell_type": "code",
      "source": [
        "a=\"Usman is very kind\"\n",
        "b=\"Usman is very kind\"\n",
        "c=\"Usman Is very kind\"\n",
        "print(a==b!=c)"
      ],
      "metadata": {
        "colab": {
          "base_uri": "https://localhost:8080/"
        },
        "id": "a1lBs3ACH7t1",
        "outputId": "a6d675fa-c781-433c-bdd0-86bfc5d5a623"
      },
      "execution_count": null,
      "outputs": [
        {
          "output_type": "stream",
          "name": "stdout",
          "text": [
            "True\n"
          ]
        }
      ]
    },
    {
      "cell_type": "code",
      "source": [
        "st1=float(input(\"enter first number\"))\n",
        "st2=float(input(\"Enter second number\"))\n",
        "print(st1!=st2)"
      ],
      "metadata": {
        "colab": {
          "base_uri": "https://localhost:8080/"
        },
        "id": "ZXz0PX5mITck",
        "outputId": "fa45ac54-8e00-4ac1-ec57-19e3132aa479"
      },
      "execution_count": null,
      "outputs": [
        {
          "output_type": "stream",
          "name": "stdout",
          "text": [
            "enter first number3.9\n",
            "Enter second number3.4\n",
            "True\n"
          ]
        }
      ]
    },
    {
      "cell_type": "code",
      "source": [
        "x=84777\n",
        "y=5534\n",
        "print(x>y)"
      ],
      "metadata": {
        "colab": {
          "base_uri": "https://localhost:8080/"
        },
        "id": "qhgORnmJIvFP",
        "outputId": "7bbc6482-daf4-434c-f8eb-77e968580411"
      },
      "execution_count": null,
      "outputs": [
        {
          "output_type": "stream",
          "name": "stdout",
          "text": [
            "True\n"
          ]
        }
      ]
    },
    {
      "cell_type": "code",
      "source": [
        "num1=int(input(\"Enter first number\"))\n",
        "num2=int(input(\"Enter second number\"))\n",
        "if (num1>num2):\n",
        "  print(\"The Answer is True\")\n",
        "else:\n",
        "  print(\"The Answer is False\")"
      ],
      "metadata": {
        "colab": {
          "base_uri": "https://localhost:8080/"
        },
        "id": "eAcpidU4JHiU",
        "outputId": "0908a8b1-4dd5-45f2-d5b9-fd7d3bc30fde"
      },
      "execution_count": null,
      "outputs": [
        {
          "output_type": "stream",
          "name": "stdout",
          "text": [
            "Enter first number44\n",
            "Enter second number67\n",
            "The Answer is False\n"
          ]
        }
      ]
    },
    {
      "cell_type": "code",
      "source": [
        "a=\"I Love Pakistan\"\n",
        "b=\"I Love Pakistani\"\n",
        "print(a>b)"
      ],
      "metadata": {
        "colab": {
          "base_uri": "https://localhost:8080/"
        },
        "id": "a0Jw5o_sKD9h",
        "outputId": "09b3371e-1ba9-437f-b5cb-2d1b48eca316"
      },
      "execution_count": null,
      "outputs": [
        {
          "output_type": "stream",
          "name": "stdout",
          "text": [
            "False\n"
          ]
        }
      ]
    },
    {
      "cell_type": "code",
      "source": [
        "a=float(input(\"Enter first number\"))\n",
        "b=float(input(\"Enter second number\"))\n",
        "c=float(input(\"enter third number\"))\n",
        "d=float(input(\"enter fourth number\"))\n",
        "print(a>b>c>d)"
      ],
      "metadata": {
        "colab": {
          "base_uri": "https://localhost:8080/"
        },
        "id": "xky58ZyZKhfB",
        "outputId": "2c8ab94e-1b26-48a1-f648-841f8e24cde1"
      },
      "execution_count": null,
      "outputs": [
        {
          "output_type": "stream",
          "name": "stdout",
          "text": [
            "Enter first number155555\n",
            "Enter second number148589\n",
            "enter third number136255\n",
            "enter fourth number129987\n",
            "True\n"
          ]
        }
      ]
    },
    {
      "cell_type": "code",
      "source": [
        "num1=74666\n",
        "num2=54677\n",
        "num3=89773\n",
        "num4=2332\n",
        "print(num1>num2<num3>num4)"
      ],
      "metadata": {
        "colab": {
          "base_uri": "https://localhost:8080/"
        },
        "id": "hmfu_HMULUGn",
        "outputId": "af1307ff-fa30-4037-9d16-0d00b7a6663a"
      },
      "execution_count": null,
      "outputs": [
        {
          "output_type": "stream",
          "name": "stdout",
          "text": [
            "True\n"
          ]
        }
      ]
    },
    {
      "cell_type": "code",
      "source": [
        "x=7377\n",
        "y=6277\n",
        "print(x<y)"
      ],
      "metadata": {
        "colab": {
          "base_uri": "https://localhost:8080/"
        },
        "id": "v9QQ6KEPMAiN",
        "outputId": "101dd5aa-8b14-4ff6-8220-9d78bc9327b5"
      },
      "execution_count": null,
      "outputs": [
        {
          "output_type": "stream",
          "name": "stdout",
          "text": [
            "False\n"
          ]
        }
      ]
    },
    {
      "cell_type": "code",
      "source": [
        "num1=float(input(\"Enter first number\"))\n",
        "num2=float(input(\"Enter second number\"))\n",
        "if (num1<num2):\n",
        "  print(\"The Answer is Very Good\")\n",
        "elif (num1>num2):\n",
        "  print(\"The Answer is Very Bad\")\n",
        "else:\n",
        "  print(\"The Answer is Perfect\")\n"
      ],
      "metadata": {
        "colab": {
          "base_uri": "https://localhost:8080/"
        },
        "id": "GbR9BDxjO_PT",
        "outputId": "e0e85eb0-64d0-4add-be71-b393d9d8a1c3"
      },
      "execution_count": null,
      "outputs": [
        {
          "output_type": "stream",
          "name": "stdout",
          "text": [
            "Enter first number8888\n",
            "Enter second number8888\n",
            "The Answer is Perfect\n"
          ]
        }
      ]
    },
    {
      "cell_type": "code",
      "source": [
        "num1=float(input(\"Enter first number\"))\n",
        "num2=float(input(\"Enter second number\"))\n",
        "if (num1<num2):\n",
        "  print(\"The Answer is Very Good\")\n",
        "elif (num1>num2):\n",
        "  print(\"The Answer is Very Bad\")\n",
        "else:\n",
        "  print(\"The Answer is Perfect\")"
      ],
      "metadata": {
        "colab": {
          "base_uri": "https://localhost:8080/"
        },
        "id": "19ixw0odQUqa",
        "outputId": "15c696e3-e927-4ca8-e548-9be805d2f641"
      },
      "execution_count": null,
      "outputs": [
        {
          "output_type": "stream",
          "name": "stdout",
          "text": [
            "Enter first number6577\n",
            "Enter second number8377\n",
            "The Answer is Very Good\n"
          ]
        }
      ]
    },
    {
      "cell_type": "code",
      "source": [
        "st1=float(input(\"Enter first number\"))\n",
        "st2=float(input(\"Enter second number\"))\n",
        "print(st1<st2)"
      ],
      "metadata": {
        "colab": {
          "base_uri": "https://localhost:8080/"
        },
        "id": "Pn6s6Mg4Qb1K",
        "outputId": "58e14b1b-7a78-4500-c72e-271a3da649fe"
      },
      "execution_count": null,
      "outputs": [
        {
          "output_type": "stream",
          "name": "stdout",
          "text": [
            "Enter first number4.3\n",
            "Enter second number9.5\n",
            "True\n"
          ]
        }
      ]
    },
    {
      "cell_type": "code",
      "source": [
        "a=\"I Have a Question \"\n",
        "b=\"I Have a Questions\"\n",
        "print(a<b)"
      ],
      "metadata": {
        "colab": {
          "base_uri": "https://localhost:8080/"
        },
        "id": "OsU78TdoRTdp",
        "outputId": "dc93576e-0e1b-48e2-bc7e-9e6007f0978e"
      },
      "execution_count": null,
      "outputs": [
        {
          "output_type": "stream",
          "name": "stdout",
          "text": [
            "True\n"
          ]
        }
      ]
    },
    {
      "cell_type": "code",
      "source": [
        "x=746\n",
        "y=738\n",
        "print(x>=y)"
      ],
      "metadata": {
        "colab": {
          "base_uri": "https://localhost:8080/"
        },
        "id": "vq4Ov7FOSDUD",
        "outputId": "047b935a-ddfd-4199-c9cf-bffdc3ea977b"
      },
      "execution_count": null,
      "outputs": [
        {
          "output_type": "stream",
          "name": "stdout",
          "text": [
            "True\n"
          ]
        }
      ]
    },
    {
      "cell_type": "code",
      "source": [
        "num1=float(input(\"Enter first number\"))\n",
        "num2=float(input(\"Enter second number\"))\n",
        "print(num1>=num2)"
      ],
      "metadata": {
        "colab": {
          "base_uri": "https://localhost:8080/"
        },
        "id": "YHjITOljU0J9",
        "outputId": "499eb5e4-8b57-4f18-f2a0-017ec3d1bd91"
      },
      "execution_count": null,
      "outputs": [
        {
          "output_type": "stream",
          "name": "stdout",
          "text": [
            "Enter first number78.44\n",
            "Enter second number93.3\n",
            "False\n"
          ]
        }
      ]
    },
    {
      "cell_type": "code",
      "source": [
        "st1=\"We Love Pakistan\"\n",
        "st2=\"We Loved Pakistan\"\n",
        "print(st2>=st1)"
      ],
      "metadata": {
        "colab": {
          "base_uri": "https://localhost:8080/"
        },
        "id": "j-bdk8KBVPII",
        "outputId": "0d265b3c-12bc-4e84-b6b5-1d9f96dc68ca"
      },
      "execution_count": null,
      "outputs": [
        {
          "output_type": "stream",
          "name": "stdout",
          "text": [
            "True\n"
          ]
        }
      ]
    },
    {
      "cell_type": "code",
      "source": [
        "a=int(input(\"Enter first number\"))\n",
        "b=int(input(\"Enter second number\"))\n",
        "c=int(input(\"enter third number\"))\n",
        "d=int(input(\"enter fourth number\"))\n",
        "print(a>=b>=c>=d)"
      ],
      "metadata": {
        "colab": {
          "base_uri": "https://localhost:8080/"
        },
        "id": "CWdkxWo4V0Pt",
        "outputId": "448db4c4-7f82-426c-e143-a7592c0bbc9b"
      },
      "execution_count": null,
      "outputs": [
        {
          "output_type": "stream",
          "name": "stdout",
          "text": [
            "Enter first number84778\n",
            "Enter second number84533\n",
            "enter third number93647\n",
            "enter fourth number109387\n",
            "False\n"
          ]
        }
      ]
    },
    {
      "cell_type": "code",
      "source": [
        "x=66\n",
        "y=64\n",
        "print(x<=y)"
      ],
      "metadata": {
        "colab": {
          "base_uri": "https://localhost:8080/"
        },
        "id": "iD7mHsuSWY85",
        "outputId": "f1ab1a48-7fdc-4f96-f136-36c2141d5847"
      },
      "execution_count": null,
      "outputs": [
        {
          "output_type": "stream",
          "name": "stdout",
          "text": [
            "False\n"
          ]
        }
      ]
    },
    {
      "cell_type": "code",
      "source": [
        "st1=\"I am Going to School\"\n",
        "st2=\"I am Goings to School\"\n",
        "print(st1<=st2)"
      ],
      "metadata": {
        "colab": {
          "base_uri": "https://localhost:8080/"
        },
        "id": "x4M796WPY1CX",
        "outputId": "960c5c44-4e49-45ad-c4a1-a5639413e5f7"
      },
      "execution_count": null,
      "outputs": [
        {
          "output_type": "stream",
          "name": "stdout",
          "text": [
            "True\n"
          ]
        }
      ]
    },
    {
      "cell_type": "code",
      "source": [
        "num1=float(input(\"Enter first number\"))\n",
        "num2=float(input(\"Enter second number\"))\n",
        "if (num1<=num2):\n",
        "  print(\"The Answer is Very Good\")\n",
        "elif (num1>=num2):\n",
        "  print(\"The Answer is Very Bad\")\n",
        "else:\n",
        "  print(\"The Answer is Perfect\")"
      ],
      "metadata": {
        "colab": {
          "base_uri": "https://localhost:8080/"
        },
        "id": "u2Vs5m7vZaJZ",
        "outputId": "873c47ce-8721-4c1c-c2f4-32457aecdb8c"
      },
      "execution_count": null,
      "outputs": [
        {
          "output_type": "stream",
          "name": "stdout",
          "text": [
            "Enter first number8377\n",
            "Enter second number4763\n",
            "The Answer is Very Bad\n"
          ]
        }
      ]
    },
    {
      "cell_type": "code",
      "source": [
        "a=\"Khan is very Hard Working\"\n",
        "b=\"Aslam is very Intelligent\"\n",
        "c=\"Ali Is very Good Boy\"\n",
        "print(a<=b<=c)"
      ],
      "metadata": {
        "colab": {
          "base_uri": "https://localhost:8080/"
        },
        "id": "LN0oAprBZjr_",
        "outputId": "90018a77-293f-45b3-a2ac-b4bb388d49ce"
      },
      "execution_count": null,
      "outputs": [
        {
          "output_type": "stream",
          "name": "stdout",
          "text": [
            "False\n"
          ]
        }
      ]
    },
    {
      "cell_type": "markdown",
      "source": [
        "# **Logical Operators**"
      ],
      "metadata": {
        "id": "8eydhagvZ1Mf"
      }
    },
    {
      "cell_type": "code",
      "source": [
        "x=78\n",
        "y=63\n",
        "print(x>y and y<x)"
      ],
      "metadata": {
        "colab": {
          "base_uri": "https://localhost:8080/"
        },
        "id": "GYBZUGbDZ9o6",
        "outputId": "4b83f55a-f75f-43f6-b1f3-e8db3f76322b"
      },
      "execution_count": null,
      "outputs": [
        {
          "output_type": "stream",
          "name": "stdout",
          "text": [
            "True\n"
          ]
        }
      ]
    },
    {
      "cell_type": "code",
      "source": [
        "num1=int(input(\"Enter first number\"))\n",
        "num2=int(input(\"Enter second number\"))\n",
        "num3=int(input(\"Enter third number\"))\n",
        "print(num1<num2 and num2>num3 and num3<num1)"
      ],
      "metadata": {
        "colab": {
          "base_uri": "https://localhost:8080/"
        },
        "id": "5Gc9BlcfeWHG",
        "outputId": "00001100-9d08-4e24-a25e-6093b5d22ffa"
      },
      "execution_count": null,
      "outputs": [
        {
          "output_type": "stream",
          "name": "stdout",
          "text": [
            "Enter first number67\n",
            "Enter second number238\n",
            "Enter third number50\n",
            "True\n"
          ]
        }
      ]
    },
    {
      "cell_type": "code",
      "source": [
        "a=float(input(\"Enter first number\"))\n",
        "b=float(input(\"Enter second number\"))\n",
        "c=float(input(\"enter third number\"))\n",
        "d=float(input(\"enter fourth number\"))\n",
        "print(a>b and b<c and c>d)"
      ],
      "metadata": {
        "colab": {
          "base_uri": "https://localhost:8080/"
        },
        "id": "v8cIfOwLfF_U",
        "outputId": "31d755a8-dbcb-4a31-99a3-443c04f6d2ea"
      },
      "execution_count": null,
      "outputs": [
        {
          "output_type": "stream",
          "name": "stdout",
          "text": [
            "Enter first number600\n",
            "Enter second number300\n",
            "enter third number450\n",
            "enter fourth number350\n",
            "True\n"
          ]
        }
      ]
    },
    {
      "cell_type": "code",
      "source": [
        "a=\"Khan is very Hard Working\"\n",
        "b=\"Aslam is very Intelligent\"\n",
        "c=\"Ali Is very Good Boy\"\n",
        "print(a>b and b>c and c<a)"
      ],
      "metadata": {
        "colab": {
          "base_uri": "https://localhost:8080/"
        },
        "id": "YfGh-3Fpftm_",
        "outputId": "729ca672-2556-4b99-d25d-25417854c068"
      },
      "execution_count": null,
      "outputs": [
        {
          "output_type": "stream",
          "name": "stdout",
          "text": [
            "True\n"
          ]
        }
      ]
    },
    {
      "cell_type": "code",
      "source": [
        "a=635\n",
        "b=637\n",
        "print(a>b or a<b)"
      ],
      "metadata": {
        "colab": {
          "base_uri": "https://localhost:8080/"
        },
        "id": "nz1Xpx8YgJZe",
        "outputId": "74bbb423-d0c2-4163-b938-ca57879679a9"
      },
      "execution_count": null,
      "outputs": [
        {
          "output_type": "stream",
          "name": "stdout",
          "text": [
            "True\n"
          ]
        }
      ]
    },
    {
      "cell_type": "code",
      "source": [
        "a=int(input(\" Enter first number \"))\n",
        "b=int(input(\" Enter second number \"))\n",
        "c=int(input(\" enter third number \"))\n",
        "d=int(input(\" enter fourth number \"))\n",
        "print(a<b or b>c or c>d)"
      ],
      "metadata": {
        "id": "bdJrW2bhiXNa",
        "colab": {
          "base_uri": "https://localhost:8080/"
        },
        "outputId": "c720a353-9bb4-4a8f-a9f0-a166db38f657"
      },
      "execution_count": null,
      "outputs": [
        {
          "output_type": "stream",
          "name": "stdout",
          "text": [
            " Enter first number 800\n",
            " Enter second number 670\n",
            " enter third number 734\n",
            " enter fourth number 300\n",
            "True\n"
          ]
        }
      ]
    },
    {
      "cell_type": "code",
      "source": [
        "a=737\n",
        "b=646\n",
        "print(a<b or a>b)"
      ],
      "metadata": {
        "colab": {
          "base_uri": "https://localhost:8080/"
        },
        "id": "Gy9tA4X1hShR",
        "outputId": "cf163fa0-c9d5-4d8c-93cd-2671a5233093"
      },
      "execution_count": null,
      "outputs": [
        {
          "output_type": "stream",
          "name": "stdout",
          "text": [
            "True\n"
          ]
        }
      ]
    },
    {
      "cell_type": "code",
      "source": [
        "s=849\n",
        "t=566\n",
        "print(not(s>t) and not(t<s))"
      ],
      "metadata": {
        "colab": {
          "base_uri": "https://localhost:8080/"
        },
        "id": "SZEYjiwjhhkJ",
        "outputId": "8ebc39d1-a1cb-418a-9e06-fab4fb8af183"
      },
      "execution_count": 7,
      "outputs": [
        {
          "output_type": "stream",
          "name": "stdout",
          "text": [
            "False\n"
          ]
        }
      ]
    },
    {
      "cell_type": "code",
      "source": [
        "num1=726\n",
        "num2=435\n",
        "print(not(num1>num2))\n",
        "print(not(num2<num1))"
      ],
      "metadata": {
        "colab": {
          "base_uri": "https://localhost:8080/"
        },
        "id": "XNg1wlRet1vV",
        "outputId": "84b5fc7b-1de0-4606-d9a0-058d2e3462e1"
      },
      "execution_count": 8,
      "outputs": [
        {
          "output_type": "stream",
          "name": "stdout",
          "text": [
            "False\n",
            "False\n"
          ]
        }
      ]
    },
    {
      "cell_type": "code",
      "source": [
        "x=int(input(\" Enter first number \"))\n",
        "y=int(input(\" Enter second number \"))\n",
        "z=int(input(\" Enter third number \"))\n",
        "print(not(x<y))\n",
        "print(not(z>y))\n",
        "print(not(z>x))"
      ],
      "metadata": {
        "colab": {
          "base_uri": "https://localhost:8080/"
        },
        "id": "HysIQW3Lur_t",
        "outputId": "16ba0797-88f6-4e09-f3d5-cf0847ecdc10"
      },
      "execution_count": 11,
      "outputs": [
        {
          "output_type": "stream",
          "name": "stdout",
          "text": [
            " Enter first number 600\n",
            " Enter second number 787\n",
            " Enter third number 900\n",
            "False\n",
            "False\n",
            "False\n"
          ]
        }
      ]
    },
    {
      "cell_type": "code",
      "source": [
        "a=float(input(\" Enter first number \"))\n",
        "b=float(input(\" Enter second number \"))\n",
        "c=float(input(\" enter third number \"))\n",
        "d=float(input(\" enter fourth number \"))\n",
        "print(a>b and b<c and c>d)\n",
        "\n",
        "#True is reversed into False in Not Operators\n",
        "\n",
        "a=float(input(\" Enter first number \"))\n",
        "b=float(input(\" Enter second number \"))\n",
        "c=float(input(\" enter third number \"))\n",
        "d=float(input(\" enter fourth number \"))\n",
        "print(not(a>b) and not(b<c) and not(c>d))"
      ],
      "metadata": {
        "colab": {
          "base_uri": "https://localhost:8080/"
        },
        "id": "af6Q7sl6wft5",
        "outputId": "c42f4dd2-7f0a-48f4-b4bb-df77d7619a07"
      },
      "execution_count": 15,
      "outputs": [
        {
          "output_type": "stream",
          "name": "stdout",
          "text": [
            " Enter first number 899\n",
            " Enter second number 678\n",
            " enter third number 754\n",
            " enter fourth number 400\n",
            "True\n",
            " Enter first number 899\n",
            " Enter second number 678\n",
            " enter third number 754\n",
            " enter fourth number 400\n",
            "False\n"
          ]
        }
      ]
    }
  ]
}
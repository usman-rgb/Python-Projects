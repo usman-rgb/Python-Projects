{
  "nbformat": 4,
  "nbformat_minor": 0,
  "metadata": {
    "colab": {
      "provenance": []
    },
    "kernelspec": {
      "name": "python3",
      "display_name": "Python 3"
    },
    "language_info": {
      "name": "python"
    }
  },
  "cells": [
    {
      "cell_type": "markdown",
      "source": [
        "**Inputs**"
      ],
      "metadata": {
        "id": "Nn8JeHlSMvq_"
      }
    },
    {
      "cell_type": "code",
      "source": [
        "num1=input(\"Enter first number\")\n",
        "num2=input(\"Enter second number\")\n",
        "print(num1+num2)"
      ],
      "metadata": {
        "colab": {
          "base_uri": "https://localhost:8080/"
        },
        "id": "p6OrAlC0M2ir",
        "outputId": "2ee7cf5f-45a3-4ad0-e79a-99402c2f53fd"
      },
      "execution_count": null,
      "outputs": [
        {
          "output_type": "stream",
          "name": "stdout",
          "text": [
            "Enter first number34\n",
            "Enter second number76\n",
            "3476\n"
          ]
        }
      ]
    },
    {
      "cell_type": "code",
      "source": [
        "a=input(\"Enter first number\")\n",
        "b=input(\"Enter second number\")\n",
        "print(int(a)+int(b))"
      ],
      "metadata": {
        "colab": {
          "base_uri": "https://localhost:8080/"
        },
        "id": "RNl-NEEINU0v",
        "outputId": "89e35206-a3b5-4b2d-d81c-1ee77d01e48d"
      },
      "execution_count": null,
      "outputs": [
        {
          "output_type": "stream",
          "name": "stdout",
          "text": [
            "Enter first number4366\n",
            "Enter second number4667\n",
            "9033\n"
          ]
        }
      ]
    },
    {
      "cell_type": "code",
      "source": [
        "num1=float(input(\"Enter first number\"))\n",
        "num2=float(input(\"Enter second number\"))\n",
        "print(num1*num2)"
      ],
      "metadata": {
        "colab": {
          "base_uri": "https://localhost:8080/"
        },
        "id": "FgZNflxoN-aD",
        "outputId": "c73c67d0-ffad-439b-9997-bb8d868b4614"
      },
      "execution_count": null,
      "outputs": [
        {
          "output_type": "stream",
          "name": "stdout",
          "text": [
            "Enter first number789.99\n",
            "Enter second number874.23\n",
            "690632.9577\n"
          ]
        }
      ]
    },
    {
      "cell_type": "code",
      "source": [
        "a=\"Usman\"\n",
        "b=23\n",
        "c=6.5\n",
        "d=True\n",
        "print(type(a))\n",
        "print(type(b))\n",
        "print(type(c))\n",
        "print(type(d))"
      ],
      "metadata": {
        "colab": {
          "base_uri": "https://localhost:8080/"
        },
        "id": "1K7Uxaf-Tf9L",
        "outputId": "c662c87a-b968-4cf0-d6fc-3a6010f958b7"
      },
      "execution_count": null,
      "outputs": [
        {
          "output_type": "stream",
          "name": "stdout",
          "text": [
            "<class 'str'>\n",
            "<class 'int'>\n",
            "<class 'float'>\n",
            "<class 'bool'>\n"
          ]
        }
      ]
    },
    {
      "cell_type": "code",
      "source": [
        "num1=str(input(\"enter first number\"))\n",
        "num2=str(input(\"enter second number\"))\n",
        "print(num1+num2)"
      ],
      "metadata": {
        "colab": {
          "base_uri": "https://localhost:8080/"
        },
        "id": "pNIC9XigUHGv",
        "outputId": "db397cb9-d2f9-4842-fcd1-c187c0ff898c"
      },
      "execution_count": null,
      "outputs": [
        {
          "output_type": "stream",
          "name": "stdout",
          "text": [
            "enter first number45\n",
            "enter second number65\n",
            "4565\n"
          ]
        }
      ]
    },
    {
      "cell_type": "code",
      "source": [
        "num1=input(\"Enter first number\")\n",
        "num2=input(\"Enter second number\")\n",
        "print(\"You entered\",num1 ,\"and\", num2)"
      ],
      "metadata": {
        "colab": {
          "base_uri": "https://localhost:8080/"
        },
        "id": "Vx0rh7LvVlpf",
        "outputId": "119e648d-8aea-48d2-9860-18894d3e31c9"
      },
      "execution_count": null,
      "outputs": [
        {
          "output_type": "stream",
          "name": "stdout",
          "text": [
            "Enter first number88\n",
            "Enter second number98\n",
            "You entered 88 and 98\n"
          ]
        }
      ]
    },
    {
      "cell_type": "code",
      "source": [
        "a=input(\"Enter first number\")\n",
        "b=input(\"Enter second number\")\n",
        "print(\"You entered\", a ,\"and\", b)"
      ],
      "metadata": {
        "colab": {
          "base_uri": "https://localhost:8080/"
        },
        "id": "qkjHzv2SWnsh",
        "outputId": "b17d43dc-c456-4729-b408-b1c148c9e2e1"
      },
      "execution_count": null,
      "outputs": [
        {
          "output_type": "stream",
          "name": "stdout",
          "text": [
            "Enter first number44\n",
            "Enter second number33\n",
            "You entered 44 and 33\n"
          ]
        }
      ]
    },
    {
      "cell_type": "code",
      "source": [
        "s1=input(\"Enter first string\")\n",
        "s2=input(\"Enter second string\")\n",
        "print(\"You entered\", s1 ,\"and\", s2)"
      ],
      "metadata": {
        "colab": {
          "base_uri": "https://localhost:8080/"
        },
        "id": "D3Jd8gXEXBUP",
        "outputId": "6c8f7dae-1b11-4acd-c79f-30b7e601528a"
      },
      "execution_count": null,
      "outputs": [
        {
          "output_type": "stream",
          "name": "stdout",
          "text": [
            "Enter first stringusman\n",
            "Enter second stringsaeed\n",
            "You entered usman and saeed\n"
          ]
        }
      ]
    },
    {
      "cell_type": "code",
      "source": [
        "a=float(input(\"Enter first number\"))\n",
        "b=float(input(\"Enter second number\"))\n",
        "print(\"You entered\", a ,\"and\", b)"
      ],
      "metadata": {
        "colab": {
          "base_uri": "https://localhost:8080/"
        },
        "id": "HLBxudj-Xv8f",
        "outputId": "5e6c9a26-8c10-4d2f-8197-7ff8b54e0243"
      },
      "execution_count": null,
      "outputs": [
        {
          "output_type": "stream",
          "name": "stdout",
          "text": [
            "Enter first number98.88\n",
            "Enter second number43.66\n",
            "You entered 98.88 and 43.66\n"
          ]
        }
      ]
    },
    {
      "cell_type": "code",
      "source": [
        "num1=input(\"Enter first numberd\")\n",
        "num2=input(\"Enter second number\")\n",
        "print(int(num1)+int(num2))"
      ],
      "metadata": {
        "colab": {
          "base_uri": "https://localhost:8080/"
        },
        "id": "QGdFbJdRZ-9M",
        "outputId": "e816528b-3ea8-416a-f802-0380fb73be3a"
      },
      "execution_count": null,
      "outputs": [
        {
          "output_type": "stream",
          "name": "stdout",
          "text": [
            "Enter first numberd77\n",
            "Enter second number88\n",
            "165\n"
          ]
        }
      ]
    },
    {
      "cell_type": "code",
      "source": [
        "a=input(\"Enter first number\")\n",
        "b=input(\"Enter second number\")\n",
        "print(a+b)"
      ],
      "metadata": {
        "colab": {
          "base_uri": "https://localhost:8080/"
        },
        "id": "5cVnozjSapTQ",
        "outputId": "c8db4321-a075-43cc-d8e4-1c0426b62ca7"
      },
      "execution_count": null,
      "outputs": [
        {
          "output_type": "stream",
          "name": "stdout",
          "text": [
            "Enter first number2\n",
            "Enter second number5\n",
            "25\n"
          ]
        }
      ]
    },
    {
      "cell_type": "code",
      "source": [
        "d=int(input(\"Enter first number\"))\n",
        "e=int(input(\"Enter second number\"))\n",
        "f=int(input(\"Enter third number\"))\n",
        "a=int(input(\"Enter fourth number\"))\n",
        "print(d+e-f*a)"
      ],
      "metadata": {
        "colab": {
          "base_uri": "https://localhost:8080/"
        },
        "id": "8CK9isHwa8L_",
        "outputId": "d39dff57-6856-413f-fbfe-561dc2690983"
      },
      "execution_count": null,
      "outputs": [
        {
          "output_type": "stream",
          "name": "stdout",
          "text": [
            "Enter first number100\n",
            "Enter second number87\n",
            "Enter third number56\n",
            "Enter fourth number29\n",
            "-1437\n"
          ]
        }
      ]
    },
    {
      "cell_type": "code",
      "source": [
        "num1=input(\"Enter first number\")\n",
        "num2=input(\"Enter second number\")\n",
        "num3=input(\"Enter third number\")\n",
        "num4=input(\"Enter fourth number\")\n",
        "print(int(num1)+float(num2)-int(num3)/float(num4))"
      ],
      "metadata": {
        "colab": {
          "base_uri": "https://localhost:8080/"
        },
        "id": "b4OjvhT6bxi8",
        "outputId": "fdc71eb8-e0e6-4fa2-eddf-714c9a2642df"
      },
      "execution_count": null,
      "outputs": [
        {
          "output_type": "stream",
          "name": "stdout",
          "text": [
            "Enter first number1277\n",
            "Enter second number3089\n",
            "Enter third number9004\n",
            "Enter fourth number10000\n",
            "4365.0996\n"
          ]
        }
      ]
    },
    {
      "cell_type": "code",
      "source": [
        "a=input(\"Enter first number\")\n",
        "b=input(\"Enter second number\")\n",
        "print(int(a)%int(b))"
      ],
      "metadata": {
        "colab": {
          "base_uri": "https://localhost:8080/"
        },
        "id": "E-y4a4Xgcm8R",
        "outputId": "08e72e7f-2f1c-4830-b7bb-e620b3514f6b"
      },
      "execution_count": null,
      "outputs": [
        {
          "output_type": "stream",
          "name": "stdout",
          "text": [
            "Enter first number1050\n",
            "Enter second number100\n",
            "50\n"
          ]
        }
      ]
    },
    {
      "cell_type": "code",
      "source": [
        "a=int(input(\"Enter first number\"))\n",
        "b=int(input(\"Enter second number\"))\n",
        "c=int(input(\"Enter third number\"))\n",
        "print(\"The Largest number is\", max(a,b,c))"
      ],
      "metadata": {
        "colab": {
          "base_uri": "https://localhost:8080/"
        },
        "id": "em-xyLFxdgmd",
        "outputId": "0b2a6bd2-f866-42e4-de9b-0156268aa4e2"
      },
      "execution_count": null,
      "outputs": [
        {
          "output_type": "stream",
          "name": "stdout",
          "text": [
            "Enter first number100\n",
            "Enter second number89\n",
            "Enter third number300\n",
            "The Largest number is 300\n"
          ]
        }
      ]
    },
    {
      "cell_type": "code",
      "source": [
        "st1=input(\"Enter first string\")\n",
        "st2=input(\"Enter second string\")\n",
        "st3=input(\"Enter third string\")\n",
        "print(\"The Smallest String is\", min(st1,st2,st3))"
      ],
      "metadata": {
        "colab": {
          "base_uri": "https://localhost:8080/"
        },
        "id": "0WNLGlyKePyC",
        "outputId": "e5f7b42a-515c-4d1d-b0fe-f807f9a003f6"
      },
      "execution_count": null,
      "outputs": [
        {
          "output_type": "stream",
          "name": "stdout",
          "text": [
            "Enter first stringUsman Is very Kind\n",
            "Enter second stringBilal Is Very Tharkii\n",
            "Enter third stringBilal and Usman are Best Friend and Roomate\n",
            "The Smallest String is Bilal Is Very Tharkii\n"
          ]
        }
      ]
    },
    {
      "cell_type": "code",
      "source": [
        "a=input(\"Enter first number\")\n",
        "b=input(\"Enter second number\")\n",
        "c=input(\"Enter third number\")\n",
        "print(int(a)%int(b)%int(c))"
      ],
      "metadata": {
        "colab": {
          "base_uri": "https://localhost:8080/"
        },
        "id": "IJioDLFMgLzH",
        "outputId": "f2c1df6a-f436-4544-9ca9-7d4f911cb619"
      },
      "execution_count": null,
      "outputs": [
        {
          "output_type": "stream",
          "name": "stdout",
          "text": [
            "Enter first number150000\n",
            "Enter second number12000\n",
            "Enter third number2400\n",
            "1200\n"
          ]
        }
      ]
    },
    {
      "cell_type": "code",
      "source": [
        "num1=int(input(\"Enter first number\"))\n",
        "num2=int(input(\"Enter second number\"))\n",
        "num3=int(input(\"Enter third number\"))\n",
        "num4=int(input(\"Enter fourth number\"))\n",
        "num5=int(input(\"Enter fifth number\"))\n",
        "print(int(num1)+int(num2)-int(num3)*int(num4)/int(num5))"
      ],
      "metadata": {
        "colab": {
          "base_uri": "https://localhost:8080/"
        },
        "id": "6U5k7kAogzCd",
        "outputId": "dff313e7-284c-4533-ef37-b3375b1f7cda"
      },
      "execution_count": null,
      "outputs": [
        {
          "output_type": "stream",
          "name": "stdout",
          "text": [
            "Enter first number6477\n",
            "Enter second number7999\n",
            "Enter third number546\n",
            "Enter fourth number788\n",
            "Enter fifth number1889\n",
            "14248.235044997353\n"
          ]
        }
      ]
    },
    {
      "cell_type": "markdown",
      "source": [
        "Type **Casting**"
      ],
      "metadata": {
        "id": "-C5UocK_iAmx"
      }
    },
    {
      "cell_type": "code",
      "source": [
        "num_str = \"10\"\n",
        "num_int = int(num_str)\n",
        "print(num_int, type(num_int))"
      ],
      "metadata": {
        "colab": {
          "base_uri": "https://localhost:8080/"
        },
        "id": "Lu_GfgjfiROm",
        "outputId": "c49e588b-3816-4959-a7a1-53229c721096"
      },
      "execution_count": null,
      "outputs": [
        {
          "output_type": "stream",
          "name": "stdout",
          "text": [
            "10 <class 'int'>\n"
          ]
        }
      ]
    },
    {
      "cell_type": "code",
      "source": [
        "num_float = 10.99\n",
        "num_int = int(num_float)\n",
        "print(num_int, type(num_int))"
      ],
      "metadata": {
        "colab": {
          "base_uri": "https://localhost:8080/"
        },
        "id": "eMrw6ijX2baI",
        "outputId": "bba26ccc-ac2a-48f7-e587-d680661fb9a9"
      },
      "execution_count": null,
      "outputs": [
        {
          "output_type": "stream",
          "name": "stdout",
          "text": [
            "10 <class 'int'>\n"
          ]
        }
      ]
    },
    {
      "cell_type": "code",
      "source": [
        "num_int=26\n",
        "num_float=float(num_int)\n",
        "print(num_float)"
      ],
      "metadata": {
        "id": "bItHQNH12eRx",
        "colab": {
          "base_uri": "https://localhost:8080/"
        },
        "outputId": "c4fa26b5-bd62-4cf7-9867-868fca116121"
      },
      "execution_count": 3,
      "outputs": [
        {
          "output_type": "stream",
          "name": "stdout",
          "text": [
            "26.0\n"
          ]
        }
      ]
    },
    {
      "cell_type": "code",
      "source": [
        "num1=23.7\n",
        "num2=int(num1)\n",
        "print(num2)"
      ],
      "metadata": {
        "colab": {
          "base_uri": "https://localhost:8080/"
        },
        "id": "fmnWK8W0_VBI",
        "outputId": "179e8851-c722-4250-bbcc-6d8ed11f15f1"
      },
      "execution_count": 4,
      "outputs": [
        {
          "output_type": "stream",
          "name": "stdout",
          "text": [
            "23\n"
          ]
        }
      ]
    },
    {
      "cell_type": "code",
      "source": [
        "name=\"34\"\n",
        "name=int(name)\n",
        "print(name)"
      ],
      "metadata": {
        "colab": {
          "base_uri": "https://localhost:8080/"
        },
        "id": "CUr1sYSs_-qU",
        "outputId": "1ef88359-4bfc-4773-d155-917992f913d9"
      },
      "execution_count": 6,
      "outputs": [
        {
          "output_type": "stream",
          "name": "stdout",
          "text": [
            "34\n"
          ]
        }
      ]
    },
    {
      "cell_type": "code",
      "source": [
        "name=\"Usman\"\n",
        "age=22\n",
        "CGPA=3.38\n",
        "student=True\n",
        "print(type(name))\n",
        "print(type(float(age)))\n",
        "print(type(int(CGPA)))\n",
        "print(type(student))"
      ],
      "metadata": {
        "colab": {
          "base_uri": "https://localhost:8080/"
        },
        "id": "ahrm7JiLF4ck",
        "outputId": "b597f118-7884-452f-8ac7-e93019b15241"
      },
      "execution_count": 7,
      "outputs": [
        {
          "output_type": "stream",
          "name": "stdout",
          "text": [
            "<class 'str'>\n",
            "<class 'float'>\n",
            "<class 'int'>\n",
            "<class 'bool'>\n"
          ]
        }
      ]
    },
    {
      "cell_type": "code",
      "source": [
        "num1=\"23\"\n",
        "num2=33\n",
        "num3=3.34\n",
        "print(int(num1))\n",
        "print(float(num2))\n",
        "print(int(num3))"
      ],
      "metadata": {
        "colab": {
          "base_uri": "https://localhost:8080/"
        },
        "id": "HMAzYAJGHdbX",
        "outputId": "94a684c1-ba1b-46ca-90a9-09707269fda0"
      },
      "execution_count": 9,
      "outputs": [
        {
          "output_type": "stream",
          "name": "stdout",
          "text": [
            "23\n",
            "33.0\n",
            "3\n"
          ]
        }
      ]
    },
    {
      "cell_type": "code",
      "source": [
        "int_num=15\n",
        "float=float(int_num)\n",
        "print(float)"
      ],
      "metadata": {
        "colab": {
          "base_uri": "https://localhost:8080/"
        },
        "id": "SXEEyF3MKKdg",
        "outputId": "10935c6d-4d95-4159-e64f-477f8e0f51df"
      },
      "execution_count": 10,
      "outputs": [
        {
          "output_type": "stream",
          "name": "stdout",
          "text": [
            "15.0\n"
          ]
        }
      ]
    },
    {
      "cell_type": "code",
      "source": [
        "int_num=72626\n",
        "str=str(int_num)\n",
        "print(str)"
      ],
      "metadata": {
        "colab": {
          "base_uri": "https://localhost:8080/"
        },
        "id": "ooN7vuWZKrB3",
        "outputId": "565405da-257a-4acc-fdaf-09030bce7d9e"
      },
      "execution_count": 11,
      "outputs": [
        {
          "output_type": "stream",
          "name": "stdout",
          "text": [
            "72626\n"
          ]
        }
      ]
    },
    {
      "cell_type": "code",
      "source": [
        "float=738.44\n",
        "float=int(float)\n",
        "print(float)"
      ],
      "metadata": {
        "colab": {
          "base_uri": "https://localhost:8080/"
        },
        "id": "uTrK4kMGLGGl",
        "outputId": "a4a01c90-11d1-403b-93a9-366152771b05"
      },
      "execution_count": 12,
      "outputs": [
        {
          "output_type": "stream",
          "name": "stdout",
          "text": [
            "738\n"
          ]
        }
      ]
    },
    {
      "cell_type": "code",
      "source": [
        "name=\"Bilal\"\n",
        "age=0\n",
        "print(bool(age))\n"
      ],
      "metadata": {
        "colab": {
          "base_uri": "https://localhost:8080/"
        },
        "id": "7auE_q5WNOM_",
        "outputId": "33855418-9f22-40c6-9cf2-7acc025f5258"
      },
      "execution_count": 13,
      "outputs": [
        {
          "output_type": "stream",
          "name": "stdout",
          "text": [
            "False\n"
          ]
        }
      ]
    },
    {
      "cell_type": "code",
      "source": [
        "name=\"\"\n",
        "age=33\n",
        "CGPA==3.9\n",
        "print(bool(name))\n",
        "print(int(age))\n",
        "print(int(CGPA))"
      ],
      "metadata": {
        "colab": {
          "base_uri": "https://localhost:8080/"
        },
        "id": "5ceaA4zZOIh6",
        "outputId": "36891967-2128-49e8-8f2a-ba94ad488b79"
      },
      "execution_count": 15,
      "outputs": [
        {
          "output_type": "stream",
          "name": "stdout",
          "text": [
            "False\n",
            "33\n",
            "3\n"
          ]
        }
      ]
    },
    {
      "cell_type": "code",
      "source": [
        "name=\" \"\n",
        "print(bool(name))"
      ],
      "metadata": {
        "colab": {
          "base_uri": "https://localhost:8080/"
        },
        "id": "MOi_HbekO98Q",
        "outputId": "2e8daa16-b804-4ced-c52b-3417a38655cc"
      },
      "execution_count": 17,
      "outputs": [
        {
          "output_type": "stream",
          "name": "stdout",
          "text": [
            "True\n"
          ]
        }
      ]
    },
    {
      "cell_type": "code",
      "source": [
        "name=\"\"\n",
        "print(bool(name))"
      ],
      "metadata": {
        "colab": {
          "base_uri": "https://localhost:8080/"
        },
        "id": "RDYND_PtPdsR",
        "outputId": "afcfd254-72e0-469b-82fb-1a64758a6c05"
      },
      "execution_count": 1,
      "outputs": [
        {
          "output_type": "stream",
          "name": "stdout",
          "text": [
            "False\n"
          ]
        }
      ]
    },
    {
      "cell_type": "code",
      "source": [
        "st1=\"usman\"\n",
        "st2=\"bilal\"\n",
        "age=22\n",
        "age1=23\n",
        "print(str(st1)+str(st2))\n",
        "print(int(age)+int(age1))\n"
      ],
      "metadata": {
        "colab": {
          "base_uri": "https://localhost:8080/"
        },
        "id": "tiAgBVD1Pqv1",
        "outputId": "131bde07-7531-46ae-d7ab-27440bca49d7"
      },
      "execution_count": 2,
      "outputs": [
        {
          "output_type": "stream",
          "name": "stdout",
          "text": [
            "usmanbilal\n",
            "45\n"
          ]
        }
      ]
    },
    {
      "cell_type": "code",
      "source": [
        "int_num=22\n",
        "float_num=float(int_num)\n",
        "print(float_num)"
      ],
      "metadata": {
        "colab": {
          "base_uri": "https://localhost:8080/"
        },
        "id": "kQiDkJ3uQgx_",
        "outputId": "24d197cf-97c0-4d1e-fba1-355e53e493ba"
      },
      "execution_count": 3,
      "outputs": [
        {
          "output_type": "stream",
          "name": "stdout",
          "text": [
            "22.0\n"
          ]
        }
      ]
    },
    {
      "cell_type": "code",
      "source": [
        "int_num=0\n",
        "bool_num=bool(int_num)\n",
        "print(bool_num)"
      ],
      "metadata": {
        "colab": {
          "base_uri": "https://localhost:8080/"
        },
        "id": "NtlogNXoRCcI",
        "outputId": "e9768d94-efe5-4037-b5d5-9eb258ecc00d"
      },
      "execution_count": 4,
      "outputs": [
        {
          "output_type": "stream",
          "name": "stdout",
          "text": [
            "False\n"
          ]
        }
      ]
    },
    {
      "cell_type": "code",
      "source": [
        "a=\"888888\"\n",
        "print(float(a))"
      ],
      "metadata": {
        "colab": {
          "base_uri": "https://localhost:8080/"
        },
        "id": "gnoyQc2KRpBa",
        "outputId": "21f36ae0-ba80-425a-957b-7b8086e3bbc0"
      },
      "execution_count": 5,
      "outputs": [
        {
          "output_type": "stream",
          "name": "stdout",
          "text": [
            "888888.0\n"
          ]
        }
      ]
    },
    {
      "cell_type": "code",
      "source": [
        "b=99999\n",
        "print(float(b))"
      ],
      "metadata": {
        "colab": {
          "base_uri": "https://localhost:8080/"
        },
        "id": "7yapnuTpS8HQ",
        "outputId": "5ad0a5d2-5695-4fa5-97c7-dc9938fdb0f5"
      },
      "execution_count": 6,
      "outputs": [
        {
          "output_type": "stream",
          "name": "stdout",
          "text": [
            "99999.0\n"
          ]
        }
      ]
    },
    {
      "cell_type": "code",
      "source": [
        "name=\"Usman\"\n",
        "age=22\n",
        "CGPA=3.5\n",
        "print(str(name))\n",
        "print(int(age))\n",
        "print(int(CGPA))"
      ],
      "metadata": {
        "colab": {
          "base_uri": "https://localhost:8080/"
        },
        "id": "4PjYS0rLTGCU",
        "outputId": "b49fa262-5f21-4fd0-9d66-0cdf1b081171"
      },
      "execution_count": 8,
      "outputs": [
        {
          "output_type": "stream",
          "name": "stdout",
          "text": [
            "Usman\n",
            "22\n",
            "3\n"
          ]
        }
      ]
    }
  ]
}
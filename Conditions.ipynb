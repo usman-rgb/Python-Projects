{
  "nbformat": 4,
  "nbformat_minor": 0,
  "metadata": {
    "colab": {
      "provenance": []
    },
    "kernelspec": {
      "name": "python3",
      "display_name": "Python 3"
    },
    "language_info": {
      "name": "python"
    }
  },
  "cells": [
    {
      "cell_type": "markdown",
      "source": [
        "# **If Statement **"
      ],
      "metadata": {
        "id": "Ucx-GF9Wbq2t"
      }
    },
    {
      "cell_type": "code",
      "source": [
        "a=64\n",
        "if a<78:\n",
        "  print(\"This Statment is Good\")"
      ],
      "metadata": {
        "colab": {
          "base_uri": "https://localhost:8080/"
        },
        "id": "UmEua2t7b_k9",
        "outputId": "76df00d6-d66b-44bd-e954-93f5b8dbd9ea"
      },
      "execution_count": null,
      "outputs": [
        {
          "output_type": "stream",
          "name": "stdout",
          "text": [
            "This Statment is Good\n"
          ]
        }
      ]
    },
    {
      "cell_type": "code",
      "source": [
        "num1=int(input(\" Enter The Value \"))\n",
        "if num1==66:\n",
        "  print(\"This is Equal\")"
      ],
      "metadata": {
        "colab": {
          "base_uri": "https://localhost:8080/"
        },
        "id": "GfaJjHQ5cZWH",
        "outputId": "6cd5e86c-7d27-4be3-91f7-dff82e2b1474"
      },
      "execution_count": null,
      "outputs": [
        {
          "output_type": "stream",
          "name": "stdout",
          "text": [
            " Enter The Value 66\n",
            "This is Equal\n"
          ]
        }
      ]
    },
    {
      "cell_type": "code",
      "source": [
        "a=7488\n",
        "b=6473\n",
        "if a>b and b!=a:\n",
        "  print(\"This Answer is True\")"
      ],
      "metadata": {
        "colab": {
          "base_uri": "https://localhost:8080/"
        },
        "id": "6zNpPL8Bc9Jv",
        "outputId": "afb7e357-c284-44b2-81b3-c0064e1e2fce"
      },
      "execution_count": null,
      "outputs": [
        {
          "output_type": "stream",
          "name": "stdout",
          "text": [
            "This Answer is True\n"
          ]
        }
      ]
    },
    {
      "cell_type": "code",
      "source": [
        "x=6377\n",
        "y=6477\n",
        "z=3334\n",
        "if x<y and y>z:\n",
        "  print(\"This Condition is True\")"
      ],
      "metadata": {
        "colab": {
          "base_uri": "https://localhost:8080/"
        },
        "id": "WUnwXgb8dbVS",
        "outputId": "4943c2c7-a437-462c-c6c3-43ac3d899d57"
      },
      "execution_count": null,
      "outputs": [
        {
          "output_type": "stream",
          "name": "stdout",
          "text": [
            "This Condition is True\n"
          ]
        }
      ]
    },
    {
      "cell_type": "code",
      "source": [
        "st1=\"Ayesha Is Hard Working\"\n",
        "st2=\"Ayesha Is Hard Working\"\n",
        "if st1==st2:\n",
        "  print(\"This Condition is True\")"
      ],
      "metadata": {
        "colab": {
          "base_uri": "https://localhost:8080/"
        },
        "id": "twVjQNtbeZ_R",
        "outputId": "c771a7bf-8cc1-40f9-81f6-0633e2584a9f"
      },
      "execution_count": null,
      "outputs": [
        {
          "output_type": "stream",
          "name": "stdout",
          "text": [
            "This Condition is True\n"
          ]
        }
      ]
    },
    {
      "cell_type": "code",
      "source": [
        "st1=\"I Love My Mom\"\n",
        "st2=\"I Love My Dad\"\n",
        "if st1!=st2:\n",
        "  print(\"This Condition is True and Both Strings are Not Equal\")"
      ],
      "metadata": {
        "colab": {
          "base_uri": "https://localhost:8080/"
        },
        "id": "ZKA9Lxd8esE_",
        "outputId": "42374e5a-4fec-44fe-c89f-4c2ec0e9425f"
      },
      "execution_count": null,
      "outputs": [
        {
          "output_type": "stream",
          "name": "stdout",
          "text": [
            "This Condition is True and Both Strings are Not Equal\n"
          ]
        }
      ]
    },
    {
      "cell_type": "code",
      "source": [
        "y=3655555536356\n",
        "z=8477388732872\n",
        "if y<z and z>y and y!=z:\n",
        "  print(\"I am Right\")"
      ],
      "metadata": {
        "colab": {
          "base_uri": "https://localhost:8080/"
        },
        "id": "TpBoqnxCfWcD",
        "outputId": "e3889b9d-4400-4d8b-b7ac-6ec993161e3e"
      },
      "execution_count": null,
      "outputs": [
        {
          "output_type": "stream",
          "name": "stdout",
          "text": [
            "I am Right\n"
          ]
        }
      ]
    },
    {
      "cell_type": "code",
      "source": [
        "num1=float(input(\" Enter The First Value \"))\n",
        "num2=float(input(\" Enter The Second Value \"))\n",
        "if num1>num2 and num2<num1:\n",
        "  print(\"This Condition is True\")"
      ],
      "metadata": {
        "colab": {
          "base_uri": "https://localhost:8080/"
        },
        "id": "m6o6Qw6wf31_",
        "outputId": "00881ec7-1636-4634-ca4a-25ad543c16ec"
      },
      "execution_count": null,
      "outputs": [
        {
          "output_type": "stream",
          "name": "stdout",
          "text": [
            " Enter The First Value 1500\n",
            " Enter The Second Value 1499.99999\n",
            "This Condition is True\n"
          ]
        }
      ]
    },
    {
      "cell_type": "code",
      "source": [
        "a=122\n",
        "b=637\n",
        "c=663\n",
        "d=535\n",
        "if c>b and a<b and d>a and b>d:\n",
        "  print(\"These values are Given by My Mind So Don't Take it Serious \")"
      ],
      "metadata": {
        "colab": {
          "base_uri": "https://localhost:8080/"
        },
        "id": "KaFgOdbCgctB",
        "outputId": "1fa3f8b1-3874-4d95-cbf5-a752d3e59144"
      },
      "execution_count": null,
      "outputs": [
        {
          "output_type": "stream",
          "name": "stdout",
          "text": [
            "These values are Given by My Mind So Don't Take it Serious \n"
          ]
        }
      ]
    },
    {
      "cell_type": "markdown",
      "source": [
        "# **If - Elif Statement**"
      ],
      "metadata": {
        "id": "GbO2C7pPhJFZ"
      }
    },
    {
      "cell_type": "code",
      "source": [
        "a=789\n",
        "if a%3==0:\n",
        "  print(\"This is Even Number\")\n",
        "elif a%3!=0:\n",
        "  print(\"This is Odd Number\")"
      ],
      "metadata": {
        "colab": {
          "base_uri": "https://localhost:8080/"
        },
        "id": "W3nLYBP2hSTL",
        "outputId": "e112e356-3f3d-46cf-a88c-6d8014a5d396"
      },
      "execution_count": null,
      "outputs": [
        {
          "output_type": "stream",
          "name": "stdout",
          "text": [
            "This is Even Number\n"
          ]
        }
      ]
    },
    {
      "cell_type": "code",
      "source": [
        "marks=int(input(\" Enter The Marks \"))\n",
        "if marks>90:\n",
        "  print(\"Grade A+\")\n",
        "elif marks>89:\n",
        "  print(\"Grade A\")\n",
        "elif marks>80:\n",
        "  print(\"Grade B+\")\n",
        "elif marks>79:\n",
        "  print(\"Grade B\")\n",
        "elif marks>70:\n",
        "  print(\"Grade C+\")\n",
        "elif marks>69:\n",
        "  print(\"Grade C\")"
      ],
      "metadata": {
        "colab": {
          "base_uri": "https://localhost:8080/"
        },
        "id": "gAqLCQxniYcu",
        "outputId": "7c4d5a61-9afa-416c-cfdc-e354454755bd"
      },
      "execution_count": null,
      "outputs": [
        {
          "output_type": "stream",
          "name": "stdout",
          "text": [
            " Enter The Marks 76\n",
            "Grade C+\n"
          ]
        }
      ]
    },
    {
      "cell_type": "code",
      "source": [
        "chocolate_type = input(\" Enter the type of chocolate you like(milk,dark,white) \")\n",
        "if chocolate_type== \"milk\":\n",
        "  print(\"This Chocolate is Very Expensive\")\n",
        "elif chocolate_type== \"dark\":\n",
        "  print(\"This is Very Poisonious\")\n",
        "elif chocolate_type== \"white\":\n",
        "  print(\"This Chocolate is very Good\")"
      ],
      "metadata": {
        "colab": {
          "base_uri": "https://localhost:8080/"
        },
        "id": "Rh6__Yslj1a0",
        "outputId": "990bca63-6e1c-4d30-cad6-2c51f20dc1d0"
      },
      "execution_count": null,
      "outputs": [
        {
          "output_type": "stream",
          "name": "stdout",
          "text": [
            " Enter the type of chocolate you like(milk,dark,white) milk\n",
            "This Chocolate is Very Expensive\n"
          ]
        }
      ]
    },
    {
      "cell_type": "code",
      "source": [
        "Winning_Medal=input(\" Enter The Colour Of Medal(Gold,Silver,Diamond) \")\n",
        "if Winning_Medal== \"Diamond\":\n",
        "  print(\"This Medal is Very Epensive and Beautiful\")\n",
        "elif Winning_Medal== \"Gold\":\n",
        "  print(\"This Medal Is Epensive and Look Like Royals\")\n",
        "elif Winning_Medal== \"Silver\":\n",
        "  print(\"This Medal is Cheap and isn't Beautiful\")"
      ],
      "metadata": {
        "colab": {
          "base_uri": "https://localhost:8080/"
        },
        "id": "qxHKT2i4muFd",
        "outputId": "eed02cca-fec1-404e-9043-ae929e70fb33"
      },
      "execution_count": null,
      "outputs": [
        {
          "output_type": "stream",
          "name": "stdout",
          "text": [
            " Enter The Colour Of Medal(Gold,Silver,Diamond) Diamond\n",
            "This Medal is Very Epensive and Beautiful\n"
          ]
        }
      ]
    },
    {
      "cell_type": "code",
      "source": [
        "Grocery_items=input(\" What grocery items Usman need? (Bread, Rice, Milk, Eggs)\")\n",
        "if Grocery_items== \"Bread\":\n",
        "  print(\"Usman needs Bundles of Breads\")\n",
        "elif Grocery_items== \"Rice\":\n",
        "  print(\"Usman needs a 7 Killograms Rice\")\n",
        "elif Grocery_items== \"Milk\":\n",
        "  print(\"Usman needs 1 Litre of Milk\")\n",
        "elif Grocery_items== \"Eggs\":\n",
        "  print(\"Usman needs 12 Eggs\")"
      ],
      "metadata": {
        "colab": {
          "base_uri": "https://localhost:8080/"
        },
        "id": "ShHuoby7oMf1",
        "outputId": "5281fd7b-98e6-49ba-a531-72427b49b35e"
      },
      "execution_count": null,
      "outputs": [
        {
          "output_type": "stream",
          "name": "stdout",
          "text": [
            " What grocery items Usman need? (Bread, Rice, Milk, Eggs)Milk\n",
            "Usman needs 1 Litre of Milk\n"
          ]
        }
      ]
    },
    {
      "cell_type": "code",
      "source": [
        "user_inputs=input(\" Hello! How can I Help You Today?\")\n",
        "if \"Python\" in user_inputs:\n",
        "  print(\" Python is A Programming Language\")\n",
        "elif \"Time\" in user_inputs:\n",
        "  print(\" The Time is Now 1:00 PM\")\n",
        "elif \"Mobile\" in user_inputs:\n",
        "  print(\" Mobile is a Device\" )"
      ],
      "metadata": {
        "colab": {
          "base_uri": "https://localhost:8080/"
        },
        "id": "9CNUpvarsFjy",
        "outputId": "f84e254b-50b4-4a09-a6f4-e0a68a3f6ae6"
      },
      "execution_count": null,
      "outputs": [
        {
          "output_type": "stream",
          "name": "stdout",
          "text": [
            " Hello! How can I Help You Today?Time\n",
            " The Time is Now 1:00 PM\n"
          ]
        }
      ]
    },
    {
      "cell_type": "code",
      "source": [
        "user_inputs=input(\" Hello! How Many You Have Money? \")\n",
        "if \"1000\" in user_inputs:\n",
        "  print(\"Take Two Killograms Rice\")\n",
        "elif \"700\" in user_inputs:\n",
        "  print(\"Take Two Dozen Eggs\")\n",
        "elif \"500\" in user_inputs:\n",
        "  print(\"Take One Litre of Milk\")\n",
        "elif \"300\" in user_inputs:\n",
        "  print(\"Take One Bundles of Breads\")"
      ],
      "metadata": {
        "colab": {
          "base_uri": "https://localhost:8080/"
        },
        "id": "M3Q14jTMujKf",
        "outputId": "b4e4e77d-7cb6-4d74-ac9e-ef4fc00db947"
      },
      "execution_count": null,
      "outputs": [
        {
          "output_type": "stream",
          "name": "stdout",
          "text": [
            " Hello! How Many You Have Money? 500\n",
            "Take One Litre of Milk\n"
          ]
        }
      ]
    },
    {
      "cell_type": "code",
      "source": [
        "x=677\n",
        "if x<738:\n",
        "  print(\"This is True\")\n",
        "elif x>645:\n",
        "  print(\"This is Also True\")"
      ],
      "metadata": {
        "colab": {
          "base_uri": "https://localhost:8080/"
        },
        "id": "XKml4kbhqJ83",
        "outputId": "79aa7b1a-bcdd-494e-94a7-aa0a7e9fda8b"
      },
      "execution_count": null,
      "outputs": [
        {
          "output_type": "stream",
          "name": "stdout",
          "text": [
            "This is True\n"
          ]
        }
      ]
    },
    {
      "cell_type": "code",
      "source": [
        "a=736\n",
        "b=6488\n",
        "if a>=b:\n",
        "  print(\"This Condition is True\")\n",
        "elif a<=b:\n",
        "  print(\"This Condition is False\")"
      ],
      "metadata": {
        "colab": {
          "base_uri": "https://localhost:8080/"
        },
        "id": "pixu6BCEqoQe",
        "outputId": "3140f436-2606-4bbb-cfb8-805af842f565"
      },
      "execution_count": null,
      "outputs": [
        {
          "output_type": "stream",
          "name": "stdout",
          "text": [
            "This Condition is False\n"
          ]
        }
      ]
    },
    {
      "cell_type": "code",
      "source": [
        "t=23948783\n",
        "y=536648789\n",
        "if t>y:\n",
        "  print(\"The Value of t is Greater\")\n",
        "elif t<y:\n",
        "  print(\"The Value of y is Greater\")"
      ],
      "metadata": {
        "colab": {
          "base_uri": "https://localhost:8080/"
        },
        "id": "dC_yFj38q9dN",
        "outputId": "26094130-dcc1-46e3-f330-926423b24922"
      },
      "execution_count": null,
      "outputs": [
        {
          "output_type": "stream",
          "name": "stdout",
          "text": [
            "The Value of y is Greater\n"
          ]
        }
      ]
    },
    {
      "cell_type": "markdown",
      "source": [
        "# **If Elif Else Statment**"
      ],
      "metadata": {
        "id": "zTt1yfO7rfuE"
      }
    },
    {
      "cell_type": "code",
      "source": [
        "user_inputs=input(\" Hello! How can I Help You Today?\")\n",
        "if \"Love\" in user_inputs:\n",
        "  print(\" Love is a Feeling\")\n",
        "elif \"Time\" in user_inputs:\n",
        "  print(\" The Time is Now 1:00 PM\")\n",
        "elif \"Meat\" in user_inputs:\n",
        "  print(\" The Meat of Cow is Very Delicious after Cooking\")\n",
        "elif \"Milk\" in user_inputs:\n",
        "  print(\" Milk is a Liquid\" )\n",
        "else:\n",
        "  print(\"This praphrase is Wrong Please Write The Correct\")"
      ],
      "metadata": {
        "colab": {
          "base_uri": "https://localhost:8080/"
        },
        "id": "3Gx1BcXCroiT",
        "outputId": "3ea13f03-0af1-4da7-f1f0-f25eafe25778"
      },
      "execution_count": null,
      "outputs": [
        {
          "output_type": "stream",
          "name": "stdout",
          "text": [
            " Hello! How can I Help You Today?milk\n",
            "This praphrase is Wrong Please Write The Correct\n"
          ]
        }
      ]
    },
    {
      "cell_type": "code",
      "source": [
        "w=566\n",
        "if w%2==0:\n",
        "  print(\"This is Even Number\")\n",
        "elif w%2!=0:\n",
        "  print(\"This is Odd Number\")\n",
        "else:\n",
        "  print(\"This is Wrong\")"
      ],
      "metadata": {
        "colab": {
          "base_uri": "https://localhost:8080/"
        },
        "id": "_xLBJhBlspd1",
        "outputId": "b5f43f79-4f3c-4f22-e7b2-8f4b454fa8ca"
      },
      "execution_count": null,
      "outputs": [
        {
          "output_type": "stream",
          "name": "stdout",
          "text": [
            "This is Even Number\n"
          ]
        }
      ]
    },
    {
      "cell_type": "code",
      "source": [
        "x= 746\n",
        "y=948\n",
        "if x>y:\n",
        "  print(\"X is Greater\")\n",
        "elif y<x:\n",
        "  print(\"Y is Greater\")\n",
        "else:\n",
        "  print(\"X and Y are Not Equal\")"
      ],
      "metadata": {
        "colab": {
          "base_uri": "https://localhost:8080/"
        },
        "id": "B0dk8NPEs11T",
        "outputId": "0de17a7d-0ef8-47be-982b-f98f02832845"
      },
      "execution_count": null,
      "outputs": [
        {
          "output_type": "stream",
          "name": "stdout",
          "text": [
            "X and Y are Not Equal\n"
          ]
        }
      ]
    },
    {
      "cell_type": "code",
      "source": [
        "chocolate_type = input(\" Enter the type of chocolate you like(milk,dark,white) \")\n",
        "if chocolate_type== \"milk\":\n",
        "  print(\"This Chocolate is Very Expensive\")\n",
        "elif chocolate_type== \"dark\":\n",
        "  print(\"This is Very Poisonious\")\n",
        "elif chocolate_type== \"white\":\n",
        "  print(\"This Chocolate is very Good\")\n",
        "else:\n",
        "  print(\" This Chocolate is Wrong \")"
      ],
      "metadata": {
        "colab": {
          "base_uri": "https://localhost:8080/"
        },
        "id": "7n7yIo120V9T",
        "outputId": "7ccbc96b-7402-46c6-bfa4-edd116919548"
      },
      "execution_count": null,
      "outputs": [
        {
          "output_type": "stream",
          "name": "stdout",
          "text": [
            " Enter the type of chocolate you like(milk,dark,white) Kit Kat\n",
            " This Chocolate is Wrong \n"
          ]
        }
      ]
    },
    {
      "cell_type": "code",
      "source": [
        "user_inputs=input(\" How many makeup items are kept into the box? \")\n",
        "if \"Foundation\" in user_inputs:\n",
        "  print(\"Foundation is a Makeup Item\")\n",
        "elif \"Lipstick\" in user_inputs:\n",
        "  print(\"Lipstick is a Makeup Item\")\n",
        "elif \"Eyeshadow\" in user_inputs:\n",
        "  print(\"Eyeshadow is a Makeup Item\")\n",
        "elif \"Concealer\" in user_inputs:\n",
        "  print(\"Concealer is a Makeup Item\")\n",
        "else:\n",
        "  print(\"This praphrase is Wrong Please Write The Correct\")"
      ],
      "metadata": {
        "id": "DhK-qJcQ1aw1",
        "colab": {
          "base_uri": "https://localhost:8080/"
        },
        "outputId": "9810a792-8f52-469c-97f6-33dc1248a6f7"
      },
      "execution_count": 14,
      "outputs": [
        {
          "output_type": "stream",
          "name": "stdout",
          "text": [
            " How many makeup items are kept into the box? Face\n",
            "This praphrase is Wrong Please Write The Correct\n"
          ]
        }
      ]
    },
    {
      "cell_type": "code",
      "source": [
        "m=7363\n",
        "if m%2==0:\n",
        "  print(\"This is Even Number\")\n",
        "elif m%2<0:\n",
        "  print(\"This is Odd Number\")\n",
        "else:\n",
        "  print(\"This is Wrong\")"
      ],
      "metadata": {
        "colab": {
          "base_uri": "https://localhost:8080/"
        },
        "id": "MNrYddyYJ3fu",
        "outputId": "48145a5d-0b70-46ef-d96d-a80206dd0752"
      },
      "execution_count": 18,
      "outputs": [
        {
          "output_type": "stream",
          "name": "stdout",
          "text": [
            "This is Wrong\n"
          ]
        }
      ]
    },
    {
      "cell_type": "code",
      "source": [
        "marks=int(input(\" Enter The Marks \"))\n",
        "if marks>90:\n",
        "  print(\"Grade A+\")\n",
        "elif marks>89:\n",
        "  print(\"Grade A\")\n",
        "elif marks>80:\n",
        "  print(\"Grade B+\")\n",
        "elif marks>79:\n",
        "  print(\"Grade B\")\n",
        "elif marks>70:\n",
        "  print(\"Grade C+\")\n",
        "elif marks>69:\n",
        "  print(\"Grade C\")\n",
        "else:\n",
        "  print(\"Fail\")"
      ],
      "metadata": {
        "colab": {
          "base_uri": "https://localhost:8080/"
        },
        "id": "CEI3A-BGKZ5p",
        "outputId": "324f7e29-3449-41f3-9785-4b7c71100608"
      },
      "execution_count": 19,
      "outputs": [
        {
          "output_type": "stream",
          "name": "stdout",
          "text": [
            " Enter The Marks 50\n",
            "Fail\n"
          ]
        }
      ]
    },
    {
      "cell_type": "code",
      "source": [
        "user_inputs=input(\" Hello! How Many You Have Money? \")\n",
        "if \"1000\" in user_inputs:\n",
        "  print(\"Take Two Killograms Rice\")\n",
        "elif \"700\" in user_inputs:\n",
        "  print(\"Take Two Dozen Eggs\")\n",
        "elif \"500\" in user_inputs:\n",
        "  print(\"Take One Litre of Milk\")\n",
        "elif \"300\" in user_inputs:\n",
        "  print(\"Take One Bundles of Breads\")\n",
        "elif \"0\" in user_inputs:\n",
        "  print(\" I Don't Have Money \")\n",
        "else:\n",
        "  print(\" I am not Sure \")"
      ],
      "metadata": {
        "colab": {
          "base_uri": "https://localhost:8080/"
        },
        "id": "sYVapUOlKnkr",
        "outputId": "17bb9922-68d7-4617-8cbc-69ae5a858803"
      },
      "execution_count": 22,
      "outputs": [
        {
          "output_type": "stream",
          "name": "stdout",
          "text": [
            " Hello! How Many You Have Money? 3433\n",
            " I am not Sure \n"
          ]
        }
      ]
    },
    {
      "cell_type": "code",
      "source": [
        "item = input(\" What item did Usman go to buy? (fruits, vegetables, snacks, clothes) \")\n",
        "\n",
        "if item == \"fruits\":\n",
        "    print(\"Usman went to the market to buy fresh fruits.\")\n",
        "elif item == \"vegetables\":\n",
        "    print(\"Usman went to get some vegetables for cooking.\")\n",
        "elif item == \"snacks\":\n",
        "    print(\"Usman is buying snacks for the evening.\")\n",
        "elif item == \"clothes\":\n",
        "    print(\"Usman is shopping for new clothes.\")\n",
        "else:\n",
        "    print(\"Usman didn't go to buy this item.\")"
      ],
      "metadata": {
        "colab": {
          "base_uri": "https://localhost:8080/"
        },
        "id": "Xe2gQb4XMQ8Y",
        "outputId": "235819bd-bedb-4f8b-9b57-e399612df08f"
      },
      "execution_count": 21,
      "outputs": [
        {
          "output_type": "stream",
          "name": "stdout",
          "text": [
            " What item did Usman go to buy? (fruits, vegetables, snacks, clothes) Apple\n",
            "Usman didn't go to buy this item.\n"
          ]
        }
      ]
    },
    {
      "cell_type": "code",
      "source": [
        "user_input = input( \"Enter your query \")\n",
        "\n",
        "if \"hello\" in user_input or \"hi\" in user_input:\n",
        "    print(\"Hi there! How can I assist you today?\")\n",
        "elif \"help\" in user_input:\n",
        "    print(\"Sure, I'd be happy to help. What do you need assistance with?\")\n",
        "elif \"bye\" in user_input:\n",
        "    print(\"Goodbye! Have a great day!\")\n",
        "else:\n",
        "    print(\"I'm sorry, I didn't understand that. Could you rephrase?\")"
      ],
      "metadata": {
        "colab": {
          "base_uri": "https://localhost:8080/"
        },
        "id": "rvCdjBaAM5Xk",
        "outputId": "8559cba0-fdf0-4b93-f35a-aa890a36d318"
      },
      "execution_count": 23,
      "outputs": [
        {
          "output_type": "stream",
          "name": "stdout",
          "text": [
            "Enter your query Songs\n",
            "I'm sorry, I didn't understand that. Could you rephrase?\n"
          ]
        }
      ]
    }
  ]
}
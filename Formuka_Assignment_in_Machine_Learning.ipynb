{
  "nbformat": 4,
  "nbformat_minor": 0,
  "metadata": {
    "colab": {
      "provenance": []
    },
    "kernelspec": {
      "name": "python3",
      "display_name": "Python 3"
    },
    "language_info": {
      "name": "python"
    }
  },
  "cells": [
    {
      "cell_type": "code",
      "execution_count": 8,
      "metadata": {
        "colab": {
          "base_uri": "https://localhost:8080/"
        },
        "id": "vhLa6fujfVJr",
        "outputId": "0e6abad0-4b03-4be5-b6f4-92c5045aebff"
      },
      "outputs": [
        {
          "output_type": "stream",
          "name": "stdout",
          "text": [
            "4.34620110786429e+22\n"
          ]
        }
      ],
      "source": [
        "# Formula is F = s(m**2 + n**2) + (m**2 - n**2) * DeltaV(DeltaT + DeltaL) / n(x**2(v**2-t**2))\n",
        "\n",
        "import math\n",
        "\n",
        "m = 5\n",
        "n = 6\n",
        "d = m**2 + n**2\n",
        "\n",
        "p = 45\n",
        "r = 22\n",
        "c = 90\n",
        "j = c**3 - r**2/p\n",
        "\n",
        "Vf = 87\n",
        "Vi = 34\n",
        "DeltaV = Vf - Vi\n",
        "\n",
        "Tf = 9887\n",
        "Ti = 6766\n",
        "DeltaT = Tf - Ti\n",
        "\n",
        "Lf = 766\n",
        "Li = 988\n",
        "DeltaL = Lf - Li\n",
        "\n",
        "v = 887\n",
        "m = 665\n",
        "n = 565\n",
        "z = n*(m + v)\n",
        "\n",
        "Jf = 766\n",
        "Ji = 566\n",
        "DeltaJ = Jf - Ji\n",
        "f = 877\n",
        "g = f*DeltaJ\n",
        "\n",
        "Uf = 655\n",
        "Ui = 589\n",
        "q = 76\n",
        "w = q*(Uf - Ui)\n",
        "\n",
        "r = 655\n",
        "y = 999\n",
        "o = r**2 * y**2\n",
        "\n",
        "a1 = 355\n",
        "a2 = 566\n",
        "a3 = a2 -a1\n",
        "\n",
        "h = 66\n",
        "i = 677\n",
        "s = h*i\n",
        "\n",
        "F = s*(d + j)*(DeltaV + DeltaT - DeltaL)/z*(g - w)*(o * a3/s)\n",
        "print(F)"
      ]
    }
  ]
}